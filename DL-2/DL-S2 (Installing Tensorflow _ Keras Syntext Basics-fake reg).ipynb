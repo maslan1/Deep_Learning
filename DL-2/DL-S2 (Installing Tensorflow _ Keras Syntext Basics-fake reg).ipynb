{
 "cells": [
  {
   "cell_type": "markdown",
   "metadata": {},
   "source": [
    "___\n",
    "\n",
    "<p style=\"text-align: center;\"><img src=\"https://docs.google.com/uc?id=1lY0Uj5R04yMY3-ZppPWxqCr5pvBLYPnV\" class=\"img-fluid\" alt=\"CLRSWY\"></p>\n",
    "\n",
    "___"
   ]
  },
  {
   "cell_type": "markdown",
   "metadata": {},
   "source": [
    "<h1 style=\"text-align: center;\">Deep Learning<br><br>Session - 2<br><br>Installing Tensorflow & Keras Syntax Basics<br><br>Fake Reg<br><h1>"
   ]
  },
  {
   "cell_type": "markdown",
   "metadata": {},
   "source": [
    "# Installing Tensorflow"
   ]
  },
  {
   "cell_type": "code",
   "execution_count": 2,
   "metadata": {},
   "outputs": [
    {
     "name": "stdout",
     "output_type": "stream",
     "text": [
      "Python 3.9.13\n"
     ]
    }
   ],
   "source": [
    "!python --version"
   ]
  },
  {
   "cell_type": "code",
   "execution_count": 1,
   "metadata": {},
   "outputs": [
    {
     "name": "stdout",
     "output_type": "stream",
     "text": [
      "Collecting tensorflow\n",
      "  Downloading tensorflow-2.10.0-cp39-cp39-win_amd64.whl (455.9 MB)\n",
      "     -------------------------------------- 455.9/455.9 MB 3.4 MB/s eta 0:00:00\n",
      "Collecting keras<2.11,>=2.10.0\n",
      "  Downloading keras-2.10.0-py2.py3-none-any.whl (1.7 MB)\n",
      "     ---------------------------------------- 1.7/1.7 MB 10.7 MB/s eta 0:00:00\n",
      "Collecting absl-py>=1.0.0\n",
      "  Downloading absl_py-1.2.0-py3-none-any.whl (123 kB)\n",
      "     -------------------------------------- 123.4/123.4 kB 7.1 MB/s eta 0:00:00\n",
      "Collecting protobuf<3.20,>=3.9.2\n",
      "  Downloading protobuf-3.19.5-cp39-cp39-win_amd64.whl (895 kB)\n",
      "     ------------------------------------- 895.9/895.9 kB 14.3 MB/s eta 0:00:00\n",
      "Collecting google-pasta>=0.1.1\n",
      "  Downloading google_pasta-0.2.0-py3-none-any.whl (57 kB)\n",
      "     ---------------------------------------- 57.5/57.5 kB 3.0 MB/s eta 0:00:00\n",
      "Collecting gast<=0.4.0,>=0.2.1\n",
      "  Downloading gast-0.4.0-py3-none-any.whl (9.8 kB)\n",
      "Collecting termcolor>=1.1.0\n",
      "  Downloading termcolor-2.0.1-py3-none-any.whl (5.4 kB)\n",
      "Collecting flatbuffers>=2.0\n",
      "  Downloading flatbuffers-22.9.24-py2.py3-none-any.whl (26 kB)\n",
      "Collecting tensorboard<2.11,>=2.10\n",
      "  Downloading tensorboard-2.10.1-py3-none-any.whl (5.9 MB)\n",
      "     ---------------------------------------- 5.9/5.9 MB 12.1 MB/s eta 0:00:00\n",
      "Collecting tensorflow-io-gcs-filesystem>=0.23.1\n",
      "  Downloading tensorflow_io_gcs_filesystem-0.27.0-cp39-cp39-win_amd64.whl (1.5 MB)\n",
      "     ---------------------------------------- 1.5/1.5 MB 13.4 MB/s eta 0:00:00\n",
      "Requirement already satisfied: setuptools in c:\\users\\user\\anaconda3\\lib\\site-packages (from tensorflow) (63.4.1)\n",
      "Collecting opt-einsum>=2.3.2\n",
      "  Downloading opt_einsum-3.3.0-py3-none-any.whl (65 kB)\n",
      "     ---------------------------------------- 65.5/65.5 kB 3.5 MB/s eta 0:00:00\n",
      "Requirement already satisfied: numpy>=1.20 in c:\\users\\user\\anaconda3\\lib\\site-packages (from tensorflow) (1.21.5)\n",
      "Requirement already satisfied: typing-extensions>=3.6.6 in c:\\users\\user\\anaconda3\\lib\\site-packages (from tensorflow) (4.3.0)\n",
      "Requirement already satisfied: packaging in c:\\users\\user\\anaconda3\\lib\\site-packages (from tensorflow) (21.3)\n",
      "Collecting tensorflow-estimator<2.11,>=2.10.0\n",
      "  Downloading tensorflow_estimator-2.10.0-py2.py3-none-any.whl (438 kB)\n",
      "     -------------------------------------- 438.7/438.7 kB 9.1 MB/s eta 0:00:00\n",
      "Requirement already satisfied: wrapt>=1.11.0 in c:\\users\\user\\anaconda3\\lib\\site-packages (from tensorflow) (1.12.1)\n",
      "Requirement already satisfied: grpcio<2.0,>=1.24.3 in c:\\users\\user\\anaconda3\\lib\\site-packages (from tensorflow) (1.42.0)\n",
      "Requirement already satisfied: six>=1.12.0 in c:\\users\\user\\anaconda3\\lib\\site-packages (from tensorflow) (1.16.0)\n",
      "Collecting keras-preprocessing>=1.1.1\n",
      "  Downloading Keras_Preprocessing-1.1.2-py2.py3-none-any.whl (42 kB)\n",
      "     ---------------------------------------- 42.6/42.6 kB 2.2 MB/s eta 0:00:00\n",
      "Requirement already satisfied: h5py>=2.9.0 in c:\\users\\user\\anaconda3\\lib\\site-packages (from tensorflow) (3.7.0)\n",
      "Collecting libclang>=13.0.0\n",
      "  Downloading libclang-14.0.6-py2.py3-none-win_amd64.whl (14.2 MB)\n",
      "     --------------------------------------- 14.2/14.2 MB 11.7 MB/s eta 0:00:00\n",
      "Collecting astunparse>=1.6.0\n",
      "  Downloading astunparse-1.6.3-py2.py3-none-any.whl (12 kB)\n",
      "Requirement already satisfied: wheel<1.0,>=0.23.0 in c:\\users\\user\\anaconda3\\lib\\site-packages (from astunparse>=1.6.0->tensorflow) (0.37.1)\n",
      "Collecting tensorboard-plugin-wit>=1.6.0\n",
      "  Downloading tensorboard_plugin_wit-1.8.1-py3-none-any.whl (781 kB)\n",
      "     ------------------------------------- 781.3/781.3 kB 12.4 MB/s eta 0:00:00\n",
      "Requirement already satisfied: werkzeug>=1.0.1 in c:\\users\\user\\anaconda3\\lib\\site-packages (from tensorboard<2.11,>=2.10->tensorflow) (2.0.3)\n",
      "Requirement already satisfied: markdown>=2.6.8 in c:\\users\\user\\anaconda3\\lib\\site-packages (from tensorboard<2.11,>=2.10->tensorflow) (3.3.4)\n",
      "Collecting google-auth-oauthlib<0.5,>=0.4.1\n",
      "  Downloading google_auth_oauthlib-0.4.6-py2.py3-none-any.whl (18 kB)\n",
      "Collecting tensorboard-data-server<0.7.0,>=0.6.0\n",
      "  Downloading tensorboard_data_server-0.6.1-py3-none-any.whl (2.4 kB)\n",
      "Requirement already satisfied: requests<3,>=2.21.0 in c:\\users\\user\\anaconda3\\lib\\site-packages (from tensorboard<2.11,>=2.10->tensorflow) (2.28.1)\n",
      "Requirement already satisfied: google-auth<3,>=1.6.3 in c:\\users\\user\\anaconda3\\lib\\site-packages (from tensorboard<2.11,>=2.10->tensorflow) (2.6.0)\n",
      "Requirement already satisfied: pyparsing!=3.0.5,>=2.0.2 in c:\\users\\user\\anaconda3\\lib\\site-packages (from packaging->tensorflow) (3.0.9)\n",
      "Requirement already satisfied: cachetools<6.0,>=2.0.0 in c:\\users\\user\\anaconda3\\lib\\site-packages (from google-auth<3,>=1.6.3->tensorboard<2.11,>=2.10->tensorflow) (4.2.2)\n",
      "Requirement already satisfied: rsa<5,>=3.1.4 in c:\\users\\user\\anaconda3\\lib\\site-packages (from google-auth<3,>=1.6.3->tensorboard<2.11,>=2.10->tensorflow) (4.7.2)\n",
      "Requirement already satisfied: pyasn1-modules>=0.2.1 in c:\\users\\user\\anaconda3\\lib\\site-packages (from google-auth<3,>=1.6.3->tensorboard<2.11,>=2.10->tensorflow) (0.2.8)\n",
      "Collecting requests-oauthlib>=0.7.0\n",
      "  Downloading requests_oauthlib-1.3.1-py2.py3-none-any.whl (23 kB)\n",
      "Requirement already satisfied: urllib3<1.27,>=1.21.1 in c:\\users\\user\\anaconda3\\lib\\site-packages (from requests<3,>=2.21.0->tensorboard<2.11,>=2.10->tensorflow) (1.26.11)\n",
      "Requirement already satisfied: charset-normalizer<3,>=2 in c:\\users\\user\\anaconda3\\lib\\site-packages (from requests<3,>=2.21.0->tensorboard<2.11,>=2.10->tensorflow) (2.0.4)\n",
      "Requirement already satisfied: idna<4,>=2.5 in c:\\users\\user\\anaconda3\\lib\\site-packages (from requests<3,>=2.21.0->tensorboard<2.11,>=2.10->tensorflow) (3.3)\n",
      "Requirement already satisfied: certifi>=2017.4.17 in c:\\users\\user\\anaconda3\\lib\\site-packages (from requests<3,>=2.21.0->tensorboard<2.11,>=2.10->tensorflow) (2022.6.15)\n",
      "Requirement already satisfied: pyasn1<0.5.0,>=0.4.6 in c:\\users\\user\\anaconda3\\lib\\site-packages (from pyasn1-modules>=0.2.1->google-auth<3,>=1.6.3->tensorboard<2.11,>=2.10->tensorflow) (0.4.8)\n",
      "Collecting oauthlib>=3.0.0\n",
      "  Downloading oauthlib-3.2.1-py3-none-any.whl (151 kB)\n",
      "     -------------------------------------- 151.7/151.7 kB 1.5 MB/s eta 0:00:00\n",
      "Installing collected packages: tensorboard-plugin-wit, libclang, keras, flatbuffers, termcolor, tensorflow-io-gcs-filesystem, tensorflow-estimator, tensorboard-data-server, protobuf, opt-einsum, oauthlib, keras-preprocessing, google-pasta, gast, astunparse, absl-py, requests-oauthlib, google-auth-oauthlib, tensorboard, tensorflow\n",
      "  Attempting uninstall: protobuf\n",
      "    Found existing installation: protobuf 3.20.1\n",
      "    Uninstalling protobuf-3.20.1:\n",
      "      Successfully uninstalled protobuf-3.20.1\n",
      "Successfully installed absl-py-1.2.0 astunparse-1.6.3 flatbuffers-22.9.24 gast-0.4.0 google-auth-oauthlib-0.4.6 google-pasta-0.2.0 keras-2.10.0 keras-preprocessing-1.1.2 libclang-14.0.6 oauthlib-3.2.1 opt-einsum-3.3.0 protobuf-3.19.5 requests-oauthlib-1.3.1 tensorboard-2.10.1 tensorboard-data-server-0.6.1 tensorboard-plugin-wit-1.8.1 tensorflow-2.10.0 tensorflow-estimator-2.10.0 tensorflow-io-gcs-filesystem-0.27.0 termcolor-2.0.1\n",
      "Note: you may need to restart the kernel to use updated packages.\n"
     ]
    }
   ],
   "source": [
    "pip install tensorflow"
   ]
  },
  {
   "cell_type": "code",
   "execution_count": 1,
   "metadata": {},
   "outputs": [
    {
     "data": {
      "text/plain": [
       "'2.10.0'"
      ]
     },
     "execution_count": 1,
     "metadata": {},
     "output_type": "execute_result"
    }
   ],
   "source": [
    "import tensorflow as tf\n",
    "tf.__version__"
   ]
  },
  {
   "cell_type": "markdown",
   "metadata": {},
   "source": [
    "# Keras Syntax Basics"
   ]
  },
  {
   "cell_type": "code",
   "execution_count": 3,
   "metadata": {},
   "outputs": [],
   "source": [
    "import numpy as np\n",
    "import pandas as pd\n",
    "import matplotlib.pyplot as plt\n",
    "import seaborn as sns\n",
    "\n",
    "import warnings\n",
    "warnings.filterwarnings(\"ignore\")\n",
    "warnings.warn(\"this will not show\")\n",
    "\n",
    "plt.rcParams[\"figure.figsize\"] = (10,6)\n",
    "\n",
    "sns.set_style(\"whitegrid\")\n",
    "pd.set_option('display.float_format', lambda x: '%.3f' % x)\n",
    "\n",
    "# Set it None to display all rows in the dataframe\n",
    "# pd.set_option('display.max_rows', None)\n",
    "\n",
    "# Set it to None to display all columns in the dataframe\n",
    "pd.set_option('display.max_columns', None)"
   ]
  },
  {
   "cell_type": "code",
   "execution_count": 5,
   "metadata": {},
   "outputs": [],
   "source": [
    "#from google.colab import drive\n",
    "#drive.mount('/content/drive')"
   ]
  },
  {
   "cell_type": "code",
   "execution_count": 6,
   "metadata": {},
   "outputs": [],
   "source": [
    "#df = pd.read_csv(\"drive/MyDrive/Colab_Files/data/fake_reg.csv\")"
   ]
  },
  {
   "cell_type": "code",
   "execution_count": 4,
   "metadata": {},
   "outputs": [],
   "source": [
    "df = pd.read_csv(\"fake_reg.csv\")"
   ]
  },
  {
   "cell_type": "markdown",
   "metadata": {},
   "source": [
    "## Exploratory Data Analysis and Visualization"
   ]
  },
  {
   "cell_type": "code",
   "execution_count": 5,
   "metadata": {},
   "outputs": [
    {
     "data": {
      "text/html": [
       "<div>\n",
       "<style scoped>\n",
       "    .dataframe tbody tr th:only-of-type {\n",
       "        vertical-align: middle;\n",
       "    }\n",
       "\n",
       "    .dataframe tbody tr th {\n",
       "        vertical-align: top;\n",
       "    }\n",
       "\n",
       "    .dataframe thead th {\n",
       "        text-align: right;\n",
       "    }\n",
       "</style>\n",
       "<table border=\"1\" class=\"dataframe\">\n",
       "  <thead>\n",
       "    <tr style=\"text-align: right;\">\n",
       "      <th></th>\n",
       "      <th>price</th>\n",
       "      <th>feature1</th>\n",
       "      <th>feature2</th>\n",
       "    </tr>\n",
       "  </thead>\n",
       "  <tbody>\n",
       "    <tr>\n",
       "      <th>0</th>\n",
       "      <td>461.528</td>\n",
       "      <td>999.788</td>\n",
       "      <td>999.766</td>\n",
       "    </tr>\n",
       "    <tr>\n",
       "      <th>1</th>\n",
       "      <td>548.130</td>\n",
       "      <td>998.862</td>\n",
       "      <td>1001.042</td>\n",
       "    </tr>\n",
       "    <tr>\n",
       "      <th>2</th>\n",
       "      <td>410.297</td>\n",
       "      <td>1000.070</td>\n",
       "      <td>998.844</td>\n",
       "    </tr>\n",
       "    <tr>\n",
       "      <th>3</th>\n",
       "      <td>540.382</td>\n",
       "      <td>999.952</td>\n",
       "      <td>1000.441</td>\n",
       "    </tr>\n",
       "    <tr>\n",
       "      <th>4</th>\n",
       "      <td>546.025</td>\n",
       "      <td>1000.446</td>\n",
       "      <td>1000.339</td>\n",
       "    </tr>\n",
       "  </tbody>\n",
       "</table>\n",
       "</div>"
      ],
      "text/plain": [
       "    price  feature1  feature2\n",
       "0 461.528   999.788   999.766\n",
       "1 548.130   998.862  1001.042\n",
       "2 410.297  1000.070   998.844\n",
       "3 540.382   999.952  1000.441\n",
       "4 546.025  1000.446  1000.339"
      ]
     },
     "execution_count": 5,
     "metadata": {},
     "output_type": "execute_result"
    }
   ],
   "source": [
    "df.head()"
   ]
  },
  {
   "cell_type": "code",
   "execution_count": 6,
   "metadata": {},
   "outputs": [
    {
     "name": "stdout",
     "output_type": "stream",
     "text": [
      "<class 'pandas.core.frame.DataFrame'>\n",
      "RangeIndex: 1000 entries, 0 to 999\n",
      "Data columns (total 3 columns):\n",
      " #   Column    Non-Null Count  Dtype  \n",
      "---  ------    --------------  -----  \n",
      " 0   price     1000 non-null   float64\n",
      " 1   feature1  1000 non-null   float64\n",
      " 2   feature2  1000 non-null   float64\n",
      "dtypes: float64(3)\n",
      "memory usage: 23.6 KB\n"
     ]
    }
   ],
   "source": [
    "df.info()"
   ]
  },
  {
   "cell_type": "code",
   "execution_count": 7,
   "metadata": {},
   "outputs": [
    {
     "data": {
      "text/html": [
       "<div>\n",
       "<style scoped>\n",
       "    .dataframe tbody tr th:only-of-type {\n",
       "        vertical-align: middle;\n",
       "    }\n",
       "\n",
       "    .dataframe tbody tr th {\n",
       "        vertical-align: top;\n",
       "    }\n",
       "\n",
       "    .dataframe thead th {\n",
       "        text-align: right;\n",
       "    }\n",
       "</style>\n",
       "<table border=\"1\" class=\"dataframe\">\n",
       "  <thead>\n",
       "    <tr style=\"text-align: right;\">\n",
       "      <th></th>\n",
       "      <th>count</th>\n",
       "      <th>mean</th>\n",
       "      <th>std</th>\n",
       "      <th>min</th>\n",
       "      <th>25%</th>\n",
       "      <th>50%</th>\n",
       "      <th>75%</th>\n",
       "      <th>max</th>\n",
       "    </tr>\n",
       "  </thead>\n",
       "  <tbody>\n",
       "    <tr>\n",
       "      <th>price</th>\n",
       "      <td>1000.000</td>\n",
       "      <td>498.673</td>\n",
       "      <td>93.785</td>\n",
       "      <td>223.347</td>\n",
       "      <td>433.026</td>\n",
       "      <td>502.382</td>\n",
       "      <td>564.922</td>\n",
       "      <td>774.408</td>\n",
       "    </tr>\n",
       "    <tr>\n",
       "      <th>feature1</th>\n",
       "      <td>1000.000</td>\n",
       "      <td>1000.014</td>\n",
       "      <td>0.974</td>\n",
       "      <td>997.058</td>\n",
       "      <td>999.332</td>\n",
       "      <td>1000.010</td>\n",
       "      <td>1000.638</td>\n",
       "      <td>1003.208</td>\n",
       "    </tr>\n",
       "    <tr>\n",
       "      <th>feature2</th>\n",
       "      <td>1000.000</td>\n",
       "      <td>999.980</td>\n",
       "      <td>0.948</td>\n",
       "      <td>996.996</td>\n",
       "      <td>999.316</td>\n",
       "      <td>1000.002</td>\n",
       "      <td>1000.645</td>\n",
       "      <td>1002.666</td>\n",
       "    </tr>\n",
       "  </tbody>\n",
       "</table>\n",
       "</div>"
      ],
      "text/plain": [
       "            count     mean    std     min     25%      50%      75%      max\n",
       "price    1000.000  498.673 93.785 223.347 433.026  502.382  564.922  774.408\n",
       "feature1 1000.000 1000.014  0.974 997.058 999.332 1000.010 1000.638 1003.208\n",
       "feature2 1000.000  999.980  0.948 996.996 999.316 1000.002 1000.645 1002.666"
      ]
     },
     "execution_count": 7,
     "metadata": {},
     "output_type": "execute_result"
    }
   ],
   "source": [
    "df.describe().T"
   ]
  },
  {
   "cell_type": "code",
   "execution_count": 8,
   "metadata": {},
   "outputs": [
    {
     "data": {
      "image/png": "[encoded data removed]",
      "text/plain": [
       "<Figure size 750x750 with 12 Axes>"
      ]
     },
     "metadata": {},
     "output_type": "display_data"
    }
   ],
   "source": [
    "sns.pairplot(df);"
   ]
  },
  {
   "cell_type": "code",
   "execution_count": 9,
   "metadata": {},
   "outputs": [
    {
     "data": {
      "text/html": [
       "<div>\n",
       "<style scoped>\n",
       "    .dataframe tbody tr th:only-of-type {\n",
       "        vertical-align: middle;\n",
       "    }\n",
       "\n",
       "    .dataframe tbody tr th {\n",
       "        vertical-align: top;\n",
       "    }\n",
       "\n",
       "    .dataframe thead th {\n",
       "        text-align: right;\n",
       "    }\n",
       "</style>\n",
       "<table border=\"1\" class=\"dataframe\">\n",
       "  <thead>\n",
       "    <tr style=\"text-align: right;\">\n",
       "      <th></th>\n",
       "      <th>price</th>\n",
       "      <th>feature1</th>\n",
       "      <th>feature2</th>\n",
       "    </tr>\n",
       "  </thead>\n",
       "  <tbody>\n",
       "    <tr>\n",
       "      <th>price</th>\n",
       "      <td>1.000</td>\n",
       "      <td>0.444</td>\n",
       "      <td>0.908</td>\n",
       "    </tr>\n",
       "    <tr>\n",
       "      <th>feature1</th>\n",
       "      <td>0.444</td>\n",
       "      <td>1.000</td>\n",
       "      <td>0.031</td>\n",
       "    </tr>\n",
       "    <tr>\n",
       "      <th>feature2</th>\n",
       "      <td>0.908</td>\n",
       "      <td>0.031</td>\n",
       "      <td>1.000</td>\n",
       "    </tr>\n",
       "  </tbody>\n",
       "</table>\n",
       "</div>"
      ],
      "text/plain": [
       "          price  feature1  feature2\n",
       "price     1.000     0.444     0.908\n",
       "feature1  0.444     1.000     0.031\n",
       "feature2  0.908     0.031     1.000"
      ]
     },
     "execution_count": 9,
     "metadata": {},
     "output_type": "execute_result"
    }
   ],
   "source": [
    "df.corr()"
   ]
  },
  {
   "cell_type": "markdown",
   "metadata": {},
   "source": [
    "## Preprocessing of Data\n",
    "- Train | Test Split, Scalling"
   ]
  },
  {
   "cell_type": "code",
   "execution_count": 10,
   "metadata": {},
   "outputs": [],
   "source": [
    "from sklearn.model_selection import train_test_split"
   ]
  },
  {
   "cell_type": "code",
   "execution_count": 11,
   "metadata": {},
   "outputs": [],
   "source": [
    "# X = df[['feature1', 'feature2']].values  # convert to array\n",
    "# y = df['price'].values"
   ]
  },
  {
   "cell_type": "code",
   "execution_count": 12,
   "metadata": {},
   "outputs": [],
   "source": [
    "X = df[['feature1', 'feature2']] \n",
    "y = df['price']"
   ]
  },
  {
   "cell_type": "code",
   "execution_count": 13,
   "metadata": {},
   "outputs": [
    {
     "data": {
      "text/html": [
       "<div>\n",
       "<style scoped>\n",
       "    .dataframe tbody tr th:only-of-type {\n",
       "        vertical-align: middle;\n",
       "    }\n",
       "\n",
       "    .dataframe tbody tr th {\n",
       "        vertical-align: top;\n",
       "    }\n",
       "\n",
       "    .dataframe thead th {\n",
       "        text-align: right;\n",
       "    }\n",
       "</style>\n",
       "<table border=\"1\" class=\"dataframe\">\n",
       "  <thead>\n",
       "    <tr style=\"text-align: right;\">\n",
       "      <th></th>\n",
       "      <th>feature1</th>\n",
       "      <th>feature2</th>\n",
       "    </tr>\n",
       "  </thead>\n",
       "  <tbody>\n",
       "    <tr>\n",
       "      <th>0</th>\n",
       "      <td>999.788</td>\n",
       "      <td>999.766</td>\n",
       "    </tr>\n",
       "    <tr>\n",
       "      <th>1</th>\n",
       "      <td>998.862</td>\n",
       "      <td>1001.042</td>\n",
       "    </tr>\n",
       "    <tr>\n",
       "      <th>2</th>\n",
       "      <td>1000.070</td>\n",
       "      <td>998.844</td>\n",
       "    </tr>\n",
       "    <tr>\n",
       "      <th>3</th>\n",
       "      <td>999.952</td>\n",
       "      <td>1000.441</td>\n",
       "    </tr>\n",
       "    <tr>\n",
       "      <th>4</th>\n",
       "      <td>1000.446</td>\n",
       "      <td>1000.339</td>\n",
       "    </tr>\n",
       "    <tr>\n",
       "      <th>...</th>\n",
       "      <td>...</td>\n",
       "      <td>...</td>\n",
       "    </tr>\n",
       "    <tr>\n",
       "      <th>995</th>\n",
       "      <td>1000.019</td>\n",
       "      <td>999.673</td>\n",
       "    </tr>\n",
       "    <tr>\n",
       "      <th>996</th>\n",
       "      <td>998.855</td>\n",
       "      <td>1000.020</td>\n",
       "    </tr>\n",
       "    <tr>\n",
       "      <th>997</th>\n",
       "      <td>1001.452</td>\n",
       "      <td>998.848</td>\n",
       "    </tr>\n",
       "    <tr>\n",
       "      <th>998</th>\n",
       "      <td>1000.771</td>\n",
       "      <td>998.563</td>\n",
       "    </tr>\n",
       "    <tr>\n",
       "      <th>999</th>\n",
       "      <td>999.232</td>\n",
       "      <td>1001.451</td>\n",
       "    </tr>\n",
       "  </tbody>\n",
       "</table>\n",
       "<p>1000 rows × 2 columns</p>\n",
       "</div>"
      ],
      "text/plain": [
       "     feature1  feature2\n",
       "0     999.788   999.766\n",
       "1     998.862  1001.042\n",
       "2    1000.070   998.844\n",
       "3     999.952  1000.441\n",
       "4    1000.446  1000.339\n",
       "..        ...       ...\n",
       "995  1000.019   999.673\n",
       "996   998.855  1000.020\n",
       "997  1001.452   998.848\n",
       "998  1000.771   998.563\n",
       "999   999.232  1001.451\n",
       "\n",
       "[1000 rows x 2 columns]"
      ]
     },
     "execution_count": 13,
     "metadata": {},
     "output_type": "execute_result"
    }
   ],
   "source": [
    "X"
   ]
  },
  {
   "cell_type": "code",
   "execution_count": 14,
   "metadata": {},
   "outputs": [
    {
     "data": {
      "text/plain": [
       "0     461.528\n",
       "1     548.130\n",
       "2     410.297\n",
       "3     540.382\n",
       "4     546.025\n",
       "        ...  \n",
       "995   476.526\n",
       "996   457.313\n",
       "997   456.721\n",
       "998   403.316\n",
       "999   599.367\n",
       "Name: price, Length: 1000, dtype: float64"
      ]
     },
     "execution_count": 14,
     "metadata": {},
     "output_type": "execute_result"
    }
   ],
   "source": [
    "y"
   ]
  },
  {
   "cell_type": "code",
   "execution_count": 15,
   "metadata": {},
   "outputs": [],
   "source": [
    "X_train, X_test, y_train, y_test = train_test_split(X, y, test_size = 0.3, random_state = 42)"
   ]
  },
  {
   "cell_type": "code",
   "execution_count": 16,
   "metadata": {},
   "outputs": [
    {
     "data": {
      "text/plain": [
       "(700, 2)"
      ]
     },
     "execution_count": 16,
     "metadata": {},
     "output_type": "execute_result"
    }
   ],
   "source": [
    "X_train.shape"
   ]
  },
  {
   "cell_type": "code",
   "execution_count": 17,
   "metadata": {},
   "outputs": [
    {
     "data": {
      "text/plain": [
       "(300, 2)"
      ]
     },
     "execution_count": 17,
     "metadata": {},
     "output_type": "execute_result"
    }
   ],
   "source": [
    "X_test.shape"
   ]
  },
  {
   "cell_type": "code",
   "execution_count": 18,
   "metadata": {},
   "outputs": [],
   "source": [
    "from sklearn.preprocessing import MinMaxScaler"
   ]
  },
  {
   "cell_type": "code",
   "execution_count": 19,
   "metadata": {},
   "outputs": [
    {
     "name": "stdout",
     "output_type": "stream",
     "text": [
      "Help on class MinMaxScaler in module sklearn.preprocessing._data:\n",
      "\n",
      "class MinMaxScaler(sklearn.base._OneToOneFeatureMixin, sklearn.base.TransformerMixin, sklearn.base.BaseEstimator)\n",
      " |  MinMaxScaler(feature_range=(0, 1), *, copy=True, clip=False)\n",
      " |  \n",
      " |  Transform features by scaling each feature to a given range.\n",
      " |  \n",
      " |  This estimator scales and translates each feature individually such\n",
      " |  that it is in the given range on the training set, e.g. between\n",
      " |  zero and one.\n",
      " |  \n",
      " |  The transformation is given by::\n",
      " |  \n",
      " |      X_std = (X - X.min(axis=0)) / (X.max(axis=0) - X.min(axis=0))\n",
      " |      X_scaled = X_std * (max - min) + min\n",
      " |  \n",
      " |  where min, max = feature_range.\n",
      " |  \n",
      " |  This transformation is often used as an alternative to zero mean,\n",
      " |  unit variance scaling.\n",
      " |  \n",
      " |  Read more in the :ref:`User Guide <preprocessing_scaler>`.\n",
      " |  \n",
      " |  Parameters\n",
      " |  ----------\n",
      " |  feature_range : tuple (min, max), default=(0, 1)\n",
      " |      Desired range of transformed data.\n",
      " |  \n",
      " |  copy : bool, default=True\n",
      " |      Set to False to perform inplace row normalization and avoid a\n",
      " |      copy (if the input is already a numpy array).\n",
      " |  \n",
      " |  clip : bool, default=False\n",
      " |      Set to True to clip transformed values of held-out data to\n",
      " |      provided `feature range`.\n",
      " |  \n",
      " |      .. versionadded:: 0.24\n",
      " |  \n",
      " |  Attributes\n",
      " |  ----------\n",
      " |  min_ : ndarray of shape (n_features,)\n",
      " |      Per feature adjustment for minimum. Equivalent to\n",
      " |      ``min - X.min(axis=0) * self.scale_``\n",
      " |  \n",
      " |  scale_ : ndarray of shape (n_features,)\n",
      " |      Per feature relative scaling of the data. Equivalent to\n",
      " |      ``(max - min) / (X.max(axis=0) - X.min(axis=0))``\n",
      " |  \n",
      " |      .. versionadded:: 0.17\n",
      " |         *scale_* attribute.\n",
      " |  \n",
      " |  data_min_ : ndarray of shape (n_features,)\n",
      " |      Per feature minimum seen in the data\n",
      " |  \n",
      " |      .. versionadded:: 0.17\n",
      " |         *data_min_*\n",
      " |  \n",
      " |  data_max_ : ndarray of shape (n_features,)\n",
      " |      Per feature maximum seen in the data\n",
      " |  \n",
      " |      .. versionadded:: 0.17\n",
      " |         *data_max_*\n",
      " |  \n",
      " |  data_range_ : ndarray of shape (n_features,)\n",
      " |      Per feature range ``(data_max_ - data_min_)`` seen in the data\n",
      " |  \n",
      " |      .. versionadded:: 0.17\n",
      " |         *data_range_*\n",
      " |  \n",
      " |  n_features_in_ : int\n",
      " |      Number of features seen during :term:`fit`.\n",
      " |  \n",
      " |      .. versionadded:: 0.24\n",
      " |  \n",
      " |  n_samples_seen_ : int\n",
      " |      The number of samples processed by the estimator.\n",
      " |      It will be reset on new calls to fit, but increments across\n",
      " |      ``partial_fit`` calls.\n",
      " |  \n",
      " |  feature_names_in_ : ndarray of shape (`n_features_in_`,)\n",
      " |      Names of features seen during :term:`fit`. Defined only when `X`\n",
      " |      has feature names that are all strings.\n",
      " |  \n",
      " |      .. versionadded:: 1.0\n",
      " |  \n",
      " |  See Also\n",
      " |  --------\n",
      " |  minmax_scale : Equivalent function without the estimator API.\n",
      " |  \n",
      " |  Notes\n",
      " |  -----\n",
      " |  NaNs are treated as missing values: disregarded in fit, and maintained in\n",
      " |  transform.\n",
      " |  \n",
      " |  For a comparison of the different scalers, transformers, and normalizers,\n",
      " |  see :ref:`examples/preprocessing/plot_all_scaling.py\n",
      " |  <sphx_glr_auto_examples_preprocessing_plot_all_scaling.py>`.\n",
      " |  \n",
      " |  Examples\n",
      " |  --------\n",
      " |  >>> from sklearn.preprocessing import MinMaxScaler\n",
      " |  >>> data = [[-1, 2], [-0.5, 6], [0, 10], [1, 18]]\n",
      " |  >>> scaler = MinMaxScaler()\n",
      " |  >>> print(scaler.fit(data))\n",
      " |  MinMaxScaler()\n",
      " |  >>> print(scaler.data_max_)\n",
      " |  [ 1. 18.]\n",
      " |  >>> print(scaler.transform(data))\n",
      " |  [[0.   0.  ]\n",
      " |   [0.25 0.25]\n",
      " |   [0.5  0.5 ]\n",
      " |   [1.   1.  ]]\n",
      " |  >>> print(scaler.transform([[2, 2]]))\n",
      " |  [[1.5 0. ]]\n",
      " |  \n",
      " |  Method resolution order:\n",
      " |      MinMaxScaler\n",
      " |      sklearn.base._OneToOneFeatureMixin\n",
      " |      sklearn.base.TransformerMixin\n",
      " |      sklearn.base.BaseEstimator\n",
      " |      builtins.object\n",
      " |  \n",
      " |  Methods defined here:\n",
      " |  \n",
      " |  __init__(self, feature_range=(0, 1), *, copy=True, clip=False)\n",
      " |      Initialize self.  See help(type(self)) for accurate signature.\n",
      " |  \n",
      " |  fit(self, X, y=None)\n",
      " |      Compute the minimum and maximum to be used for later scaling.\n",
      " |      \n",
      " |      Parameters\n",
      " |      ----------\n",
      " |      X : array-like of shape (n_samples, n_features)\n",
      " |          The data used to compute the per-feature minimum and maximum\n",
      " |          used for later scaling along the features axis.\n",
      " |      \n",
      " |      y : None\n",
      " |          Ignored.\n",
      " |      \n",
      " |      Returns\n",
      " |      -------\n",
      " |      self : object\n",
      " |          Fitted scaler.\n",
      " |  \n",
      " |  inverse_transform(self, X)\n",
      " |      Undo the scaling of X according to feature_range.\n",
      " |      \n",
      " |      Parameters\n",
      " |      ----------\n",
      " |      X : array-like of shape (n_samples, n_features)\n",
      " |          Input data that will be transformed. It cannot be sparse.\n",
      " |      \n",
      " |      Returns\n",
      " |      -------\n",
      " |      Xt : ndarray of shape (n_samples, n_features)\n",
      " |          Transformed data.\n",
      " |  \n",
      " |  partial_fit(self, X, y=None)\n",
      " |      Online computation of min and max on X for later scaling.\n",
      " |      \n",
      " |      All of X is processed as a single batch. This is intended for cases\n",
      " |      when :meth:`fit` is not feasible due to very large number of\n",
      " |      `n_samples` or because X is read from a continuous stream.\n",
      " |      \n",
      " |      Parameters\n",
      " |      ----------\n",
      " |      X : array-like of shape (n_samples, n_features)\n",
      " |          The data used to compute the mean and standard deviation\n",
      " |          used for later scaling along the features axis.\n",
      " |      \n",
      " |      y : None\n",
      " |          Ignored.\n",
      " |      \n",
      " |      Returns\n",
      " |      -------\n",
      " |      self : object\n",
      " |          Fitted scaler.\n",
      " |  \n",
      " |  transform(self, X)\n",
      " |      Scale features of X according to feature_range.\n",
      " |      \n",
      " |      Parameters\n",
      " |      ----------\n",
      " |      X : array-like of shape (n_samples, n_features)\n",
      " |          Input data that will be transformed.\n",
      " |      \n",
      " |      Returns\n",
      " |      -------\n",
      " |      Xt : ndarray of shape (n_samples, n_features)\n",
      " |          Transformed data.\n",
      " |  \n",
      " |  ----------------------------------------------------------------------\n",
      " |  Methods inherited from sklearn.base._OneToOneFeatureMixin:\n",
      " |  \n",
      " |  get_feature_names_out(self, input_features=None)\n",
      " |      Get output feature names for transformation.\n",
      " |      \n",
      " |      Parameters\n",
      " |      ----------\n",
      " |      input_features : array-like of str or None, default=None\n",
      " |          Input features.\n",
      " |      \n",
      " |          - If `input_features` is `None`, then `feature_names_in_` is\n",
      " |            used as feature names in. If `feature_names_in_` is not defined,\n",
      " |            then the following input feature names are generated:\n",
      " |            `[\"x0\", \"x1\", ..., \"x(n_features_in_ - 1)\"]`.\n",
      " |          - If `input_features` is an array-like, then `input_features` must\n",
      " |            match `feature_names_in_` if `feature_names_in_` is defined.\n",
      " |      \n",
      " |      Returns\n",
      " |      -------\n",
      " |      feature_names_out : ndarray of str objects\n",
      " |          Same as input features.\n",
      " |  \n",
      " |  ----------------------------------------------------------------------\n",
      " |  Data descriptors inherited from sklearn.base._OneToOneFeatureMixin:\n",
      " |  \n",
      " |  __dict__\n",
      " |      dictionary for instance variables (if defined)\n",
      " |  \n",
      " |  __weakref__\n",
      " |      list of weak references to the object (if defined)\n",
      " |  \n",
      " |  ----------------------------------------------------------------------\n",
      " |  Methods inherited from sklearn.base.TransformerMixin:\n",
      " |  \n",
      " |  fit_transform(self, X, y=None, **fit_params)\n",
      " |      Fit to data, then transform it.\n",
      " |      \n",
      " |      Fits transformer to `X` and `y` with optional parameters `fit_params`\n",
      " |      and returns a transformed version of `X`.\n",
      " |      \n",
      " |      Parameters\n",
      " |      ----------\n",
      " |      X : array-like of shape (n_samples, n_features)\n",
      " |          Input samples.\n",
      " |      \n",
      " |      y :  array-like of shape (n_samples,) or (n_samples, n_outputs),                 default=None\n",
      " |          Target values (None for unsupervised transformations).\n",
      " |      \n",
      " |      **fit_params : dict\n",
      " |          Additional fit parameters.\n",
      " |      \n",
      " |      Returns\n",
      " |      -------\n",
      " |      X_new : ndarray array of shape (n_samples, n_features_new)\n",
      " |          Transformed array.\n",
      " |  \n",
      " |  ----------------------------------------------------------------------\n",
      " |  Methods inherited from sklearn.base.BaseEstimator:\n",
      " |  \n",
      " |  __getstate__(self)\n",
      " |  \n",
      " |  __repr__(self, N_CHAR_MAX=700)\n",
      " |      Return repr(self).\n",
      " |  \n",
      " |  __setstate__(self, state)\n",
      " |  \n",
      " |  get_params(self, deep=True)\n",
      " |      Get parameters for this estimator.\n",
      " |      \n",
      " |      Parameters\n",
      " |      ----------\n",
      " |      deep : bool, default=True\n",
      " |          If True, will return the parameters for this estimator and\n",
      " |          contained subobjects that are estimators.\n",
      " |      \n",
      " |      Returns\n",
      " |      -------\n",
      " |      params : dict\n",
      " |          Parameter names mapped to their values.\n",
      " |  \n",
      " |  set_params(self, **params)\n",
      " |      Set the parameters of this estimator.\n",
      " |      \n",
      " |      The method works on simple estimators as well as on nested objects\n",
      " |      (such as :class:`~sklearn.pipeline.Pipeline`). The latter have\n",
      " |      parameters of the form ``<component>__<parameter>`` so that it's\n",
      " |      possible to update each component of a nested object.\n",
      " |      \n",
      " |      Parameters\n",
      " |      ----------\n",
      " |      **params : dict\n",
      " |          Estimator parameters.\n",
      " |      \n",
      " |      Returns\n",
      " |      -------\n",
      " |      self : estimator instance\n",
      " |          Estimator instance.\n",
      "\n"
     ]
    }
   ],
   "source": [
    "help(MinMaxScaler)"
   ]
  },
  {
   "cell_type": "code",
   "execution_count": 20,
   "metadata": {},
   "outputs": [],
   "source": [
    "scaler = MinMaxScaler()"
   ]
  },
  {
   "cell_type": "code",
   "execution_count": 21,
   "metadata": {},
   "outputs": [],
   "source": [
    "scaler.fit(X_train)\n",
    "X_train = scaler.transform(X_train)\n",
    "X_test = scaler.transform(X_test)"
   ]
  },
  {
   "cell_type": "markdown",
   "metadata": {},
   "source": [
    "## Modelling"
   ]
  },
  {
   "cell_type": "code",
   "execution_count": 22,
   "metadata": {},
   "outputs": [],
   "source": [
    "import tensorflow as tf"
   ]
  },
  {
   "cell_type": "code",
   "execution_count": 23,
   "metadata": {},
   "outputs": [],
   "source": [
    "from tensorflow.keras.models import Sequential\n",
    "from tensorflow.keras.layers import Input,Dense, Activation"
   ]
  },
  {
   "cell_type": "code",
   "execution_count": 90,
   "metadata": {},
   "outputs": [],
   "source": [
    "# help(Sequential)"
   ]
  },
  {
   "cell_type": "code",
   "execution_count": 91,
   "metadata": {},
   "outputs": [],
   "source": [
    "# help(Dense)"
   ]
  },
  {
   "cell_type": "code",
   "execution_count": 24,
   "metadata": {},
   "outputs": [
    {
     "data": {
      "text/plain": [
       "(700, 2)"
      ]
     },
     "execution_count": 24,
     "metadata": {},
     "output_type": "execute_result"
    }
   ],
   "source": [
    "X_train.shape"
   ]
  },
  {
   "cell_type": "code",
   "execution_count": 70,
   "metadata": {},
   "outputs": [],
   "source": [
    "# First way to create model\n",
    "\n",
    "model = Sequential([Input(shape = X_train.shape[1]),\n",
    "                    Dense(units = 4, activation = \"relu\"),\n",
    "                    Dense(units = 4, activation = \"relu\"),\n",
    "                    Dense(units = 4, activation = \"relu\"),\n",
    "                    Dense(units = 1)])"
   ]
  },
  {
   "cell_type": "code",
   "execution_count": 71,
   "metadata": {},
   "outputs": [],
   "source": [
    "# Second way to create model (recommended)\n",
    "\n",
    "model = Sequential()\n",
    "#model.add(Input(shape = X_train.shape[1]))\n",
    "model.add(Dense(units = 4, activation = \"relu\", input_dim = X_train.shape[1]))\n",
    "model.add(Dense(units = 4, activation = \"relu\"))\n",
    "model.add(Dense(units = 4, activation = \"relu\"))\n",
    "model.add(Dense(units = 1))"
   ]
  },
  {
   "cell_type": "code",
   "execution_count": 72,
   "metadata": {},
   "outputs": [
    {
     "name": "stdout",
     "output_type": "stream",
     "text": [
      "Model: \"sequential_4\"\n",
      "_________________________________________________________________\n",
      " Layer (type)                Output Shape              Param #   \n",
      "=================================================================\n",
      " dense_16 (Dense)            (None, 4)                 12        \n",
      "                                                                 \n",
      " dense_17 (Dense)            (None, 4)                 20        \n",
      "                                                                 \n",
      " dense_18 (Dense)            (None, 4)                 20        \n",
      "                                                                 \n",
      " dense_19 (Dense)            (None, 1)                 5         \n",
      "                                                                 \n",
      "=================================================================\n",
      "Total params: 57\n",
      "Trainable params: 57\n",
      "Non-trainable params: 0\n",
      "_________________________________________________________________\n"
     ]
    }
   ],
   "source": [
    "model.summary()"
   ]
  },
  {
   "cell_type": "code",
   "execution_count": 73,
   "metadata": {},
   "outputs": [
    {
     "data": {
      "text/plain": [
       "[<tf.Variable 'dense_16/kernel:0' shape=(2, 4) dtype=float32, numpy=\n",
       " array([[ 0.76903224,  0.22884011,  0.35749888, -0.7134614 ],\n",
       "        [ 0.6001029 ,  0.90251946,  0.5668242 ,  0.89636683]],\n",
       "       dtype=float32)>,\n",
       " <tf.Variable 'dense_16/bias:0' shape=(4,) dtype=float32, numpy=array([0., 0., 0., 0.], dtype=float32)>,\n",
       " <tf.Variable 'dense_17/kernel:0' shape=(4, 4) dtype=float32, numpy=\n",
       " array([[-0.44581693, -0.2158196 , -0.24609405, -0.01331568],\n",
       "        [ 0.33196348, -0.16127223, -0.05641598, -0.79263103],\n",
       "        [ 0.5031292 , -0.5231393 , -0.1582694 ,  0.10952014],\n",
       "        [ 0.4901293 ,  0.6614596 ,  0.5760539 ,  0.01822466]],\n",
       "       dtype=float32)>,\n",
       " <tf.Variable 'dense_17/bias:0' shape=(4,) dtype=float32, numpy=array([0., 0., 0., 0.], dtype=float32)>,\n",
       " <tf.Variable 'dense_18/kernel:0' shape=(4, 4) dtype=float32, numpy=\n",
       " array([[-0.17565805,  0.08309543,  0.75319237, -0.63845664],\n",
       "        [ 0.46175903,  0.13851827, -0.20468599, -0.5866697 ],\n",
       "        [-0.26650155, -0.01610458, -0.3976829 ,  0.61191326],\n",
       "        [-0.5138935 ,  0.15548784,  0.28847855, -0.26087546]],\n",
       "       dtype=float32)>,\n",
       " <tf.Variable 'dense_18/bias:0' shape=(4,) dtype=float32, numpy=array([0., 0., 0., 0.], dtype=float32)>,\n",
       " <tf.Variable 'dense_19/kernel:0' shape=(4, 1) dtype=float32, numpy=\n",
       " array([[-0.7405858 ],\n",
       "        [ 0.7753333 ],\n",
       "        [ 0.29767907],\n",
       "        [-0.7283851 ]], dtype=float32)>,\n",
       " <tf.Variable 'dense_19/bias:0' shape=(1,) dtype=float32, numpy=array([0.], dtype=float32)>]"
      ]
     },
     "execution_count": 73,
     "metadata": {},
     "output_type": "execute_result"
    }
   ],
   "source": [
    "model.weights"
   ]
  },
  {
   "cell_type": "markdown",
   "metadata": {},
   "source": [
    "### Choosing an optimizer and loss\n",
    "\n",
    "Keep in mind what kind of problem you are trying to solve:\n",
    "\n",
    "    # For a multi-class classification problem\n",
    "    model.compile(optimizer='rmsprop',\n",
    "                  loss='categorical_crossentropy',\n",
    "                  metrics=['accuracy'])\n",
    "\n",
    "    # For a binary classification problem\n",
    "    model.compile(optimizer='rmsprop',\n",
    "                  loss='binary_crossentropy',\n",
    "                  metrics=['accuracy'])\n",
    "\n",
    "    # For a mean squared error regression problem\n",
    "    model.compile(optimizer='rmsprop',\n",
    "                  loss='mse')"
   ]
  },
  {
   "cell_type": "code",
   "execution_count": 74,
   "metadata": {},
   "outputs": [],
   "source": [
    "model.compile(optimizer = \"rmsprop\", loss = \"mse\")"
   ]
  },
  {
   "cell_type": "code",
   "execution_count": 75,
   "metadata": {},
   "outputs": [
    {
     "name": "stdout",
     "output_type": "stream",
     "text": [
      "Epoch 1/250\n",
      "22/22 [==============================] - 0s 1ms/step - loss: 256584.2812\n",
      "Epoch 2/250\n",
      "22/22 [==============================] - 0s 1ms/step - loss: 256445.4688\n",
      "Epoch 3/250\n",
      "22/22 [==============================] - 0s 1ms/step - loss: 256295.0781\n",
      "Epoch 4/250\n",
      "22/22 [==============================] - 0s 995us/step - loss: 256122.4219\n",
      "Epoch 5/250\n",
      "22/22 [==============================] - 0s 1ms/step - loss: 255925.8438\n",
      "Epoch 6/250\n",
      "22/22 [==============================] - 0s 1ms/step - loss: 255703.7969\n",
      "Epoch 7/250\n",
      "22/22 [==============================] - 0s 1ms/step - loss: 255450.0156\n",
      "Epoch 8/250\n",
      "22/22 [==============================] - 0s 1ms/step - loss: 255158.4688\n",
      "Epoch 9/250\n",
      "22/22 [==============================] - 0s 1ms/step - loss: 254821.9844\n",
      "Epoch 10/250\n",
      "22/22 [==============================] - 0s 1ms/step - loss: 254437.9375\n",
      "Epoch 11/250\n",
      "22/22 [==============================] - 0s 1ms/step - loss: 254009.0312\n",
      "Epoch 12/250\n",
      "22/22 [==============================] - 0s 1ms/step - loss: 253527.3594\n",
      "Epoch 13/250\n",
      "22/22 [==============================] - 0s 1ms/step - loss: 252992.8750\n",
      "Epoch 14/250\n",
      "22/22 [==============================] - 0s 1ms/step - loss: 252406.1719\n",
      "Epoch 15/250\n",
      "22/22 [==============================] - 0s 1ms/step - loss: 251760.3125\n",
      "Epoch 16/250\n",
      "22/22 [==============================] - 0s 1ms/step - loss: 251048.1562\n",
      "Epoch 17/250\n",
      "22/22 [==============================] - 0s 1ms/step - loss: 250268.6406\n",
      "Epoch 18/250\n",
      "22/22 [==============================] - 0s 1ms/step - loss: 249421.5156\n",
      "Epoch 19/250\n",
      "22/22 [==============================] - 0s 1ms/step - loss: 248494.1875\n",
      "Epoch 20/250\n",
      "22/22 [==============================] - 0s 1ms/step - loss: 247484.1094\n",
      "Epoch 21/250\n",
      "22/22 [==============================] - 0s 1ms/step - loss: 246389.4688\n",
      "Epoch 22/250\n",
      "22/22 [==============================] - 0s 2ms/step - loss: 245197.3281\n",
      "Epoch 23/250\n",
      "22/22 [==============================] - 0s 1ms/step - loss: 243895.2188\n",
      "Epoch 24/250\n",
      "22/22 [==============================] - 0s 1ms/step - loss: 242481.6875\n",
      "Epoch 25/250\n",
      "22/22 [==============================] - 0s 1ms/step - loss: 240959.2500\n",
      "Epoch 26/250\n",
      "22/22 [==============================] - 0s 2ms/step - loss: 239313.4844\n",
      "Epoch 27/250\n",
      "22/22 [==============================] - 0s 1ms/step - loss: 237542.2344\n",
      "Epoch 28/250\n",
      "22/22 [==============================] - 0s 1ms/step - loss: 235645.9844\n",
      "Epoch 29/250\n",
      "22/22 [==============================] - 0s 1ms/step - loss: 233598.1250\n",
      "Epoch 30/250\n",
      "22/22 [==============================] - 0s 1ms/step - loss: 231417.2969\n",
      "Epoch 31/250\n",
      "22/22 [==============================] - 0s 1ms/step - loss: 229100.7031\n",
      "Epoch 32/250\n",
      "22/22 [==============================] - 0s 2ms/step - loss: 226610.7188\n",
      "Epoch 33/250\n",
      "22/22 [==============================] - 0s 1ms/step - loss: 223961.2344\n",
      "Epoch 34/250\n",
      "22/22 [==============================] - 0s 1ms/step - loss: 221164.2344\n",
      "Epoch 35/250\n",
      "22/22 [==============================] - 0s 1ms/step - loss: 218202.3125\n",
      "Epoch 36/250\n",
      "22/22 [==============================] - 0s 2ms/step - loss: 215070.9531\n",
      "Epoch 37/250\n",
      "22/22 [==============================] - 0s 1ms/step - loss: 211742.4844\n",
      "Epoch 38/250\n",
      "22/22 [==============================] - 0s 2ms/step - loss: 208270.0156\n",
      "Epoch 39/250\n",
      "22/22 [==============================] - 0s 2ms/step - loss: 204605.7344\n",
      "Epoch 40/250\n",
      "22/22 [==============================] - 0s 1ms/step - loss: 200756.3125\n",
      "Epoch 41/250\n",
      "22/22 [==============================] - 0s 1ms/step - loss: 196739.3438\n",
      "Epoch 42/250\n",
      "22/22 [==============================] - 0s 1ms/step - loss: 192498.3594\n",
      "Epoch 43/250\n",
      "22/22 [==============================] - 0s 1ms/step - loss: 188081.1719\n",
      "Epoch 44/250\n",
      "22/22 [==============================] - 0s 1ms/step - loss: 183482.0938\n",
      "Epoch 45/250\n",
      "22/22 [==============================] - 0s 2ms/step - loss: 178706.5156\n",
      "Epoch 46/250\n",
      "22/22 [==============================] - 0s 1ms/step - loss: 173745.5156\n",
      "Epoch 47/250\n",
      "22/22 [==============================] - 0s 1ms/step - loss: 168585.5781\n",
      "Epoch 48/250\n",
      "22/22 [==============================] - 0s 1ms/step - loss: 163261.3125\n",
      "Epoch 49/250\n",
      "22/22 [==============================] - 0s 1ms/step - loss: 157776.0625\n",
      "Epoch 50/250\n",
      "22/22 [==============================] - 0s 1ms/step - loss: 152079.3438\n",
      "Epoch 51/250\n",
      "22/22 [==============================] - 0s 1ms/step - loss: 146233.3906\n",
      "Epoch 52/250\n",
      "22/22 [==============================] - 0s 1ms/step - loss: 140232.8750\n",
      "Epoch 53/250\n",
      "22/22 [==============================] - 0s 1ms/step - loss: 134119.1406\n",
      "Epoch 54/250\n",
      "22/22 [==============================] - 0s 1ms/step - loss: 127846.3672\n",
      "Epoch 55/250\n",
      "22/22 [==============================] - 0s 1ms/step - loss: 121460.0312\n",
      "Epoch 56/250\n",
      "22/22 [==============================] - 0s 1ms/step - loss: 114940.5938\n",
      "Epoch 57/250\n",
      "22/22 [==============================] - 0s 885us/step - loss: 108354.7578\n",
      "Epoch 58/250\n",
      "22/22 [==============================] - 0s 887us/step - loss: 101682.9922\n",
      "Epoch 59/250\n",
      "22/22 [==============================] - 0s 996us/step - loss: 94966.3125\n",
      "Epoch 60/250\n",
      "22/22 [==============================] - 0s 955us/step - loss: 88185.9531\n",
      "Epoch 61/250\n",
      "22/22 [==============================] - 0s 1ms/step - loss: 81472.8203\n",
      "Epoch 62/250\n",
      "22/22 [==============================] - 0s 923us/step - loss: 74761.1328\n",
      "Epoch 63/250\n",
      "22/22 [==============================] - 0s 876us/step - loss: 68090.5625\n",
      "Epoch 64/250\n",
      "22/22 [==============================] - 0s 1ms/step - loss: 61495.3438\n",
      "Epoch 65/250\n",
      "22/22 [==============================] - 0s 1ms/step - loss: 54984.3984\n",
      "Epoch 66/250\n",
      "22/22 [==============================] - 0s 1ms/step - loss: 48660.5312\n",
      "Epoch 67/250\n",
      "22/22 [==============================] - 0s 1ms/step - loss: 42521.2812\n",
      "Epoch 68/250\n",
      "22/22 [==============================] - 0s 909us/step - loss: 36648.3984\n",
      "Epoch 69/250\n",
      "22/22 [==============================] - 0s 1ms/step - loss: 31034.8086\n",
      "Epoch 70/250\n",
      "22/22 [==============================] - 0s 933us/step - loss: 25729.5742\n",
      "Epoch 71/250\n",
      "22/22 [==============================] - 0s 949us/step - loss: 20795.3750\n",
      "Epoch 72/250\n",
      "22/22 [==============================] - 0s 895us/step - loss: 16332.5186\n",
      "Epoch 73/250\n",
      "22/22 [==============================] - 0s 857us/step - loss: 12389.9932\n",
      "Epoch 74/250\n",
      "22/22 [==============================] - 0s 1ms/step - loss: 8953.5762\n",
      "Epoch 75/250\n",
      "22/22 [==============================] - 0s 863us/step - loss: 6103.6138\n",
      "Epoch 76/250\n",
      "22/22 [==============================] - 0s 963us/step - loss: 3879.7742\n",
      "Epoch 77/250\n",
      "22/22 [==============================] - 0s 923us/step - loss: 2387.4597\n",
      "Epoch 78/250\n",
      "22/22 [==============================] - 0s 1ms/step - loss: 1517.9573\n",
      "Epoch 79/250\n",
      "22/22 [==============================] - 0s 1ms/step - loss: 1203.6779\n",
      "Epoch 80/250\n",
      "22/22 [==============================] - 0s 992us/step - loss: 1142.2759\n",
      "Epoch 81/250\n",
      "22/22 [==============================] - 0s 995us/step - loss: 1119.8016\n",
      "Epoch 82/250\n",
      "22/22 [==============================] - 0s 911us/step - loss: 1093.8075\n",
      "Epoch 83/250\n",
      "22/22 [==============================] - 0s 1ms/step - loss: 1065.3572\n",
      "Epoch 84/250\n",
      "22/22 [==============================] - 0s 940us/step - loss: 1041.9027\n",
      "Epoch 85/250\n",
      "22/22 [==============================] - 0s 1ms/step - loss: 1012.2174\n",
      "Epoch 86/250\n",
      "22/22 [==============================] - 0s 1ms/step - loss: 986.4355\n",
      "Epoch 87/250\n",
      "22/22 [==============================] - 0s 1ms/step - loss: 959.5817\n",
      "Epoch 88/250\n",
      "22/22 [==============================] - 0s 989us/step - loss: 935.4247\n",
      "Epoch 89/250\n",
      "22/22 [==============================] - 0s 1ms/step - loss: 908.3839\n",
      "Epoch 90/250\n",
      "22/22 [==============================] - 0s 1ms/step - loss: 882.4879\n",
      "Epoch 91/250\n",
      "22/22 [==============================] - 0s 1ms/step - loss: 855.9323\n",
      "Epoch 92/250\n",
      "22/22 [==============================] - 0s 1ms/step - loss: 829.4988\n",
      "Epoch 93/250\n",
      "22/22 [==============================] - 0s 1ms/step - loss: 805.1382\n",
      "Epoch 94/250\n",
      "22/22 [==============================] - 0s 1ms/step - loss: 780.0722\n",
      "Epoch 95/250\n",
      "22/22 [==============================] - 0s 944us/step - loss: 756.3568\n",
      "Epoch 96/250\n"
     ]
    },
    {
     "name": "stdout",
     "output_type": "stream",
     "text": [
      "22/22 [==============================] - 0s 1ms/step - loss: 733.3309\n",
      "Epoch 97/250\n",
      "22/22 [==============================] - 0s 1ms/step - loss: 710.3971\n",
      "Epoch 98/250\n",
      "22/22 [==============================] - 0s 1ms/step - loss: 686.4318\n",
      "Epoch 99/250\n",
      "22/22 [==============================] - 0s 1ms/step - loss: 669.3227\n",
      "Epoch 100/250\n",
      "22/22 [==============================] - 0s 983us/step - loss: 647.9100\n",
      "Epoch 101/250\n",
      "22/22 [==============================] - 0s 1ms/step - loss: 628.9238\n",
      "Epoch 102/250\n",
      "22/22 [==============================] - 0s 1ms/step - loss: 606.7577\n",
      "Epoch 103/250\n",
      "22/22 [==============================] - 0s 1ms/step - loss: 584.5706\n",
      "Epoch 104/250\n",
      "22/22 [==============================] - 0s 1ms/step - loss: 563.5561\n",
      "Epoch 105/250\n",
      "22/22 [==============================] - 0s 1ms/step - loss: 539.7918\n",
      "Epoch 106/250\n",
      "22/22 [==============================] - 0s 1ms/step - loss: 520.5496\n",
      "Epoch 107/250\n",
      "22/22 [==============================] - 0s 958us/step - loss: 499.7849\n",
      "Epoch 108/250\n",
      "22/22 [==============================] - 0s 1ms/step - loss: 480.6820\n",
      "Epoch 109/250\n",
      "22/22 [==============================] - 0s 1ms/step - loss: 463.5256\n",
      "Epoch 110/250\n",
      "22/22 [==============================] - 0s 1ms/step - loss: 446.6615\n",
      "Epoch 111/250\n",
      "22/22 [==============================] - 0s 1ms/step - loss: 431.8109\n",
      "Epoch 112/250\n",
      "22/22 [==============================] - 0s 1ms/step - loss: 413.5020\n",
      "Epoch 113/250\n",
      "22/22 [==============================] - 0s 1ms/step - loss: 397.6855\n",
      "Epoch 114/250\n",
      "22/22 [==============================] - 0s 1ms/step - loss: 381.5540\n",
      "Epoch 115/250\n",
      "22/22 [==============================] - 0s 932us/step - loss: 363.0591\n",
      "Epoch 116/250\n",
      "22/22 [==============================] - 0s 1ms/step - loss: 345.2683\n",
      "Epoch 117/250\n",
      "22/22 [==============================] - 0s 2ms/step - loss: 330.8714\n",
      "Epoch 118/250\n",
      "22/22 [==============================] - 0s 1ms/step - loss: 313.0822\n",
      "Epoch 119/250\n",
      "22/22 [==============================] - 0s 1ms/step - loss: 296.6797\n",
      "Epoch 120/250\n",
      "22/22 [==============================] - 0s 1ms/step - loss: 279.3392\n",
      "Epoch 121/250\n",
      "22/22 [==============================] - 0s 1ms/step - loss: 264.6780\n",
      "Epoch 122/250\n",
      "22/22 [==============================] - 0s 891us/step - loss: 249.8354\n",
      "Epoch 123/250\n",
      "22/22 [==============================] - 0s 1ms/step - loss: 234.7729\n",
      "Epoch 124/250\n",
      "22/22 [==============================] - 0s 940us/step - loss: 222.0930\n",
      "Epoch 125/250\n",
      "22/22 [==============================] - 0s 860us/step - loss: 210.6023\n",
      "Epoch 126/250\n",
      "22/22 [==============================] - 0s 948us/step - loss: 198.5418\n",
      "Epoch 127/250\n",
      "22/22 [==============================] - 0s 940us/step - loss: 187.7258\n",
      "Epoch 128/250\n",
      "22/22 [==============================] - 0s 948us/step - loss: 175.6563\n",
      "Epoch 129/250\n",
      "22/22 [==============================] - 0s 1ms/step - loss: 164.4170\n",
      "Epoch 130/250\n",
      "22/22 [==============================] - 0s 887us/step - loss: 155.0747\n",
      "Epoch 131/250\n",
      "22/22 [==============================] - 0s 864us/step - loss: 146.0727\n",
      "Epoch 132/250\n",
      "22/22 [==============================] - 0s 861us/step - loss: 134.8817\n",
      "Epoch 133/250\n",
      "22/22 [==============================] - 0s 905us/step - loss: 126.7344\n",
      "Epoch 134/250\n",
      "22/22 [==============================] - 0s 1ms/step - loss: 117.9024\n",
      "Epoch 135/250\n",
      "22/22 [==============================] - 0s 870us/step - loss: 111.2455\n",
      "Epoch 136/250\n",
      "22/22 [==============================] - 0s 806us/step - loss: 103.5059\n",
      "Epoch 137/250\n",
      "22/22 [==============================] - 0s 883us/step - loss: 95.9596\n",
      "Epoch 138/250\n",
      "22/22 [==============================] - 0s 895us/step - loss: 88.5683\n",
      "Epoch 139/250\n",
      "22/22 [==============================] - 0s 1ms/step - loss: 81.7000\n",
      "Epoch 140/250\n",
      "22/22 [==============================] - 0s 864us/step - loss: 75.4926\n",
      "Epoch 141/250\n",
      "22/22 [==============================] - 0s 843us/step - loss: 70.0022\n",
      "Epoch 142/250\n",
      "22/22 [==============================] - 0s 974us/step - loss: 63.3618\n",
      "Epoch 143/250\n",
      "22/22 [==============================] - 0s 903us/step - loss: 58.4344\n",
      "Epoch 144/250\n",
      "22/22 [==============================] - 0s 835us/step - loss: 54.7178\n",
      "Epoch 145/250\n",
      "22/22 [==============================] - 0s 794us/step - loss: 50.8116\n",
      "Epoch 146/250\n",
      "22/22 [==============================] - 0s 854us/step - loss: 46.8247\n",
      "Epoch 147/250\n",
      "22/22 [==============================] - 0s 932us/step - loss: 43.6530\n",
      "Epoch 148/250\n",
      "22/22 [==============================] - 0s 760us/step - loss: 41.2057\n",
      "Epoch 149/250\n",
      "22/22 [==============================] - 0s 968us/step - loss: 38.6544\n",
      "Epoch 150/250\n",
      "22/22 [==============================] - 0s 860us/step - loss: 36.8194\n",
      "Epoch 151/250\n",
      "22/22 [==============================] - 0s 852us/step - loss: 34.8608\n",
      "Epoch 152/250\n",
      "22/22 [==============================] - 0s 866us/step - loss: 33.3525\n",
      "Epoch 153/250\n",
      "22/22 [==============================] - 0s 934us/step - loss: 32.6933\n",
      "Epoch 154/250\n",
      "22/22 [==============================] - 0s 883us/step - loss: 31.2251\n",
      "Epoch 155/250\n",
      "22/22 [==============================] - 0s 849us/step - loss: 29.7391\n",
      "Epoch 156/250\n",
      "22/22 [==============================] - 0s 954us/step - loss: 29.9179\n",
      "Epoch 157/250\n",
      "22/22 [==============================] - 0s 1ms/step - loss: 28.0579\n",
      "Epoch 158/250\n",
      "22/22 [==============================] - 0s 1ms/step - loss: 27.8619\n",
      "Epoch 159/250\n",
      "22/22 [==============================] - 0s 1ms/step - loss: 26.9597\n",
      "Epoch 160/250\n",
      "22/22 [==============================] - 0s 1ms/step - loss: 26.5014\n",
      "Epoch 161/250\n",
      "22/22 [==============================] - 0s 1ms/step - loss: 26.5604\n",
      "Epoch 162/250\n",
      "22/22 [==============================] - 0s 1ms/step - loss: 26.1944\n",
      "Epoch 163/250\n",
      "22/22 [==============================] - 0s 1ms/step - loss: 25.3937\n",
      "Epoch 164/250\n",
      "22/22 [==============================] - 0s 1ms/step - loss: 26.0348\n",
      "Epoch 165/250\n",
      "22/22 [==============================] - 0s 1ms/step - loss: 25.2333\n",
      "Epoch 166/250\n",
      "22/22 [==============================] - 0s 1ms/step - loss: 25.1607\n",
      "Epoch 167/250\n",
      "22/22 [==============================] - 0s 1ms/step - loss: 25.1380\n",
      "Epoch 168/250\n",
      "22/22 [==============================] - 0s 1ms/step - loss: 24.7898\n",
      "Epoch 169/250\n",
      "22/22 [==============================] - 0s 1ms/step - loss: 24.6373\n",
      "Epoch 170/250\n",
      "22/22 [==============================] - 0s 1ms/step - loss: 24.5696\n",
      "Epoch 171/250\n",
      "22/22 [==============================] - 0s 984us/step - loss: 24.5803\n",
      "Epoch 172/250\n",
      "22/22 [==============================] - 0s 1ms/step - loss: 24.7464\n",
      "Epoch 173/250\n",
      "22/22 [==============================] - 0s 934us/step - loss: 24.5599\n",
      "Epoch 174/250\n",
      "22/22 [==============================] - 0s 1ms/step - loss: 24.2199\n",
      "Epoch 175/250\n",
      "22/22 [==============================] - 0s 940us/step - loss: 24.5998\n",
      "Epoch 176/250\n",
      "22/22 [==============================] - 0s 1ms/step - loss: 24.1740\n",
      "Epoch 177/250\n",
      "22/22 [==============================] - 0s 911us/step - loss: 24.8639\n",
      "Epoch 178/250\n",
      "22/22 [==============================] - 0s 969us/step - loss: 25.0091\n",
      "Epoch 179/250\n",
      "22/22 [==============================] - 0s 984us/step - loss: 24.1833\n",
      "Epoch 180/250\n",
      "22/22 [==============================] - 0s 979us/step - loss: 24.3287\n",
      "Epoch 181/250\n",
      "22/22 [==============================] - 0s 964us/step - loss: 24.6925\n",
      "Epoch 182/250\n",
      "22/22 [==============================] - 0s 942us/step - loss: 24.7017\n",
      "Epoch 183/250\n",
      "22/22 [==============================] - 0s 1ms/step - loss: 24.4856\n",
      "Epoch 184/250\n",
      "22/22 [==============================] - 0s 1ms/step - loss: 24.5613\n",
      "Epoch 185/250\n",
      "22/22 [==============================] - 0s 1ms/step - loss: 24.4309\n",
      "Epoch 186/250\n",
      "22/22 [==============================] - 0s 1ms/step - loss: 24.3888\n",
      "Epoch 187/250\n",
      "22/22 [==============================] - 0s 1ms/step - loss: 24.6069\n",
      "Epoch 188/250\n",
      "22/22 [==============================] - 0s 1ms/step - loss: 24.3219\n",
      "Epoch 189/250\n",
      "22/22 [==============================] - 0s 923us/step - loss: 24.0669\n",
      "Epoch 190/250\n",
      "22/22 [==============================] - 0s 1ms/step - loss: 24.4411\n",
      "Epoch 191/250\n",
      "22/22 [==============================] - 0s 1ms/step - loss: 24.6274\n",
      "Epoch 192/250\n",
      "22/22 [==============================] - 0s 1ms/step - loss: 24.6136\n",
      "Epoch 193/250\n"
     ]
    },
    {
     "name": "stdout",
     "output_type": "stream",
     "text": [
      "22/22 [==============================] - 0s 1ms/step - loss: 24.3504\n",
      "Epoch 194/250\n",
      "22/22 [==============================] - 0s 1ms/step - loss: 24.4689\n",
      "Epoch 195/250\n",
      "22/22 [==============================] - 0s 957us/step - loss: 24.1030\n",
      "Epoch 196/250\n",
      "22/22 [==============================] - 0s 1ms/step - loss: 24.2157\n",
      "Epoch 197/250\n",
      "22/22 [==============================] - 0s 1ms/step - loss: 24.7438\n",
      "Epoch 198/250\n",
      "22/22 [==============================] - 0s 1ms/step - loss: 24.2542\n",
      "Epoch 199/250\n",
      "22/22 [==============================] - 0s 1ms/step - loss: 24.2431\n",
      "Epoch 200/250\n",
      "22/22 [==============================] - 0s 2ms/step - loss: 24.4217\n",
      "Epoch 201/250\n",
      "22/22 [==============================] - 0s 1ms/step - loss: 23.9302\n",
      "Epoch 202/250\n",
      "22/22 [==============================] - 0s 1ms/step - loss: 24.4764\n",
      "Epoch 203/250\n",
      "22/22 [==============================] - 0s 1ms/step - loss: 24.3510\n",
      "Epoch 204/250\n",
      "22/22 [==============================] - 0s 1ms/step - loss: 24.2604\n",
      "Epoch 205/250\n",
      "22/22 [==============================] - 0s 1ms/step - loss: 24.2664\n",
      "Epoch 206/250\n",
      "22/22 [==============================] - 0s 2ms/step - loss: 24.1401\n",
      "Epoch 207/250\n",
      "22/22 [==============================] - 0s 1ms/step - loss: 24.6978\n",
      "Epoch 208/250\n",
      "22/22 [==============================] - 0s 1ms/step - loss: 24.3378\n",
      "Epoch 209/250\n",
      "22/22 [==============================] - 0s 1ms/step - loss: 24.2736\n",
      "Epoch 210/250\n",
      "22/22 [==============================] - 0s 1ms/step - loss: 24.1624\n",
      "Epoch 211/250\n",
      "22/22 [==============================] - 0s 983us/step - loss: 24.2708\n",
      "Epoch 212/250\n",
      "22/22 [==============================] - 0s 843us/step - loss: 24.1401\n",
      "Epoch 213/250\n",
      "22/22 [==============================] - 0s 1ms/step - loss: 24.1999\n",
      "Epoch 214/250\n",
      "22/22 [==============================] - 0s 1ms/step - loss: 24.4497\n",
      "Epoch 215/250\n",
      "22/22 [==============================] - 0s 895us/step - loss: 24.8063\n",
      "Epoch 216/250\n",
      "22/22 [==============================] - 0s 868us/step - loss: 24.2045\n",
      "Epoch 217/250\n",
      "22/22 [==============================] - 0s 931us/step - loss: 24.2958\n",
      "Epoch 218/250\n",
      "22/22 [==============================] - 0s 1ms/step - loss: 24.2164\n",
      "Epoch 219/250\n",
      "22/22 [==============================] - 0s 1ms/step - loss: 24.3177\n",
      "Epoch 220/250\n",
      "22/22 [==============================] - 0s 1ms/step - loss: 24.2643\n",
      "Epoch 221/250\n",
      "22/22 [==============================] - 0s 1ms/step - loss: 24.4939\n",
      "Epoch 222/250\n",
      "22/22 [==============================] - 0s 977us/step - loss: 24.3848\n",
      "Epoch 223/250\n",
      "22/22 [==============================] - 0s 1ms/step - loss: 24.3067\n",
      "Epoch 224/250\n",
      "22/22 [==============================] - 0s 1ms/step - loss: 24.1943\n",
      "Epoch 225/250\n",
      "22/22 [==============================] - 0s 1ms/step - loss: 24.2304\n",
      "Epoch 226/250\n",
      "22/22 [==============================] - 0s 1ms/step - loss: 24.6589\n",
      "Epoch 227/250\n",
      "22/22 [==============================] - 0s 936us/step - loss: 24.6774\n",
      "Epoch 228/250\n",
      "22/22 [==============================] - 0s 926us/step - loss: 24.4137\n",
      "Epoch 229/250\n",
      "22/22 [==============================] - 0s 994us/step - loss: 24.5378\n",
      "Epoch 230/250\n",
      "22/22 [==============================] - 0s 1ms/step - loss: 23.9217\n",
      "Epoch 231/250\n",
      "22/22 [==============================] - 0s 1ms/step - loss: 24.3819\n",
      "Epoch 232/250\n",
      "22/22 [==============================] - 0s 1ms/step - loss: 24.4824\n",
      "Epoch 233/250\n",
      "22/22 [==============================] - 0s 1ms/step - loss: 24.4498\n",
      "Epoch 234/250\n",
      "22/22 [==============================] - 0s 1ms/step - loss: 24.6739\n",
      "Epoch 235/250\n",
      "22/22 [==============================] - 0s 967us/step - loss: 24.4379\n",
      "Epoch 236/250\n",
      "22/22 [==============================] - 0s 1ms/step - loss: 24.5511\n",
      "Epoch 237/250\n",
      "22/22 [==============================] - 0s 1ms/step - loss: 24.3925\n",
      "Epoch 238/250\n",
      "22/22 [==============================] - 0s 1ms/step - loss: 24.3605\n",
      "Epoch 239/250\n",
      "22/22 [==============================] - 0s 1ms/step - loss: 24.0491\n",
      "Epoch 240/250\n",
      "22/22 [==============================] - 0s 1ms/step - loss: 24.6311\n",
      "Epoch 241/250\n",
      "22/22 [==============================] - 0s 2ms/step - loss: 23.9507\n",
      "Epoch 242/250\n",
      "22/22 [==============================] - 0s 1ms/step - loss: 24.4245\n",
      "Epoch 243/250\n",
      "22/22 [==============================] - 0s 1ms/step - loss: 24.5252\n",
      "Epoch 244/250\n",
      "22/22 [==============================] - 0s 1ms/step - loss: 24.2113\n",
      "Epoch 245/250\n",
      "22/22 [==============================] - 0s 937us/step - loss: 24.3230\n",
      "Epoch 246/250\n",
      "22/22 [==============================] - 0s 1ms/step - loss: 24.1848\n",
      "Epoch 247/250\n",
      "22/22 [==============================] - 0s 1ms/step - loss: 24.6206\n",
      "Epoch 248/250\n",
      "22/22 [==============================] - 0s 871us/step - loss: 24.0974\n",
      "Epoch 249/250\n",
      "22/22 [==============================] - 0s 1ms/step - loss: 24.5924\n",
      "Epoch 250/250\n",
      "22/22 [==============================] - 0s 2ms/step - loss: 24.2757\n"
     ]
    },
    {
     "data": {
      "text/plain": [
       "<keras.callbacks.History at 0x22bf5e598e0>"
      ]
     },
     "execution_count": 75,
     "metadata": {},
     "output_type": "execute_result"
    }
   ],
   "source": [
    "model.fit(x = X_train, y = y_train, batch_size = 32, epochs = 250)"
   ]
  },
  {
   "cell_type": "code",
   "execution_count": 76,
   "metadata": {},
   "outputs": [
    {
     "data": {
      "text/plain": [
       "[<tf.Variable 'dense_16/kernel:0' shape=(2, 4) dtype=float32, numpy=\n",
       " array([[1.650101  , 1.9208202 , 2.045676  , 0.97914827],\n",
       "        [2.4558575 , 3.5665522 , 3.2269108 , 3.5600278 ]], dtype=float32)>,\n",
       " <tf.Variable 'dense_16/bias:0' shape=(4,) dtype=float32, numpy=array([0.01927744, 0.8274828 , 0.823791  , 0.8277262 ], dtype=float32)>,\n",
       " <tf.Variable 'dense_17/kernel:0' shape=(4, 4) dtype=float32, numpy=\n",
       " array([[ 1.5689007 ,  1.7435348 , -0.32617277, -0.01331568],\n",
       "        [ 2.2199576 ,  1.6623809 , -0.16094102, -0.79263103],\n",
       "        [ 2.3404179 ,  1.2501062 , -0.26329207,  0.10952014],\n",
       "        [ 2.409229  ,  2.5094023 ,  0.4708448 ,  0.01822466]],\n",
       "       dtype=float32)>,\n",
       " <tf.Variable 'dense_17/bias:0' shape=(4,) dtype=float32, numpy=array([ 0.8086145 ,  0.74794066, -0.10353167,  0.        ], dtype=float32)>,\n",
       " <tf.Variable 'dense_18/kernel:0' shape=(4, 4) dtype=float32, numpy=\n",
       " array([[-0.28823578,  1.9333724 ,  2.609494  , -0.63845664],\n",
       "        [ 0.3489337 ,  1.9289143 ,  1.5900624 , -0.5866697 ],\n",
       "        [-0.30266523,  0.12395068, -0.25655812,  0.61191326],\n",
       "        [-0.5138935 ,  0.15548784,  0.28847855, -0.26087546]],\n",
       "       dtype=float32)>,\n",
       " <tf.Variable 'dense_18/bias:0' shape=(4,) dtype=float32, numpy=array([-0.11228807,  0.78892934,  0.7952812 ,  0.        ], dtype=float32)>,\n",
       " <tf.Variable 'dense_19/kernel:0' shape=(4, 1) dtype=float32, numpy=\n",
       " array([[-0.64535105],\n",
       "        [ 2.6318023 ],\n",
       "        [ 2.1401362 ],\n",
       "        [-0.7283851 ]], dtype=float32)>,\n",
       " <tf.Variable 'dense_19/bias:0' shape=(1,) dtype=float32, numpy=array([0.7788167], dtype=float32)>]"
      ]
     },
     "execution_count": 76,
     "metadata": {},
     "output_type": "execute_result"
    }
   ],
   "source": [
    "model.weights"
   ]
  },
  {
   "cell_type": "code",
   "execution_count": 77,
   "metadata": {},
   "outputs": [
    {
     "data": {
      "text/plain": [
       "{'loss': [256584.28125,\n",
       "  256445.46875,\n",
       "  256295.078125,\n",
       "  256122.421875,\n",
       "  255925.84375,\n",
       "  255703.796875,\n",
       "  255450.015625,\n",
       "  255158.46875,\n",
       "  254821.984375,\n",
       "  254437.9375,\n",
       "  254009.03125,\n",
       "  253527.359375,\n",
       "  252992.875,\n",
       "  252406.171875,\n",
       "  251760.3125,\n",
       "  251048.15625,\n",
       "  250268.640625,\n",
       "  249421.515625,\n",
       "  248494.1875,\n",
       "  247484.109375,\n",
       "  246389.46875,\n",
       "  245197.328125,\n",
       "  243895.21875,\n",
       "  242481.6875,\n",
       "  240959.25,\n",
       "  239313.484375,\n",
       "  237542.234375,\n",
       "  235645.984375,\n",
       "  233598.125,\n",
       "  231417.296875,\n",
       "  229100.703125,\n",
       "  226610.71875,\n",
       "  223961.234375,\n",
       "  221164.234375,\n",
       "  218202.3125,\n",
       "  215070.953125,\n",
       "  211742.484375,\n",
       "  208270.015625,\n",
       "  204605.734375,\n",
       "  200756.3125,\n",
       "  196739.34375,\n",
       "  192498.359375,\n",
       "  188081.171875,\n",
       "  183482.09375,\n",
       "  178706.515625,\n",
       "  173745.515625,\n",
       "  168585.578125,\n",
       "  163261.3125,\n",
       "  157776.0625,\n",
       "  152079.34375,\n",
       "  146233.390625,\n",
       "  140232.875,\n",
       "  134119.140625,\n",
       "  127846.3671875,\n",
       "  121460.03125,\n",
       "  114940.59375,\n",
       "  108354.7578125,\n",
       "  101682.9921875,\n",
       "  94966.3125,\n",
       "  88185.953125,\n",
       "  81472.8203125,\n",
       "  74761.1328125,\n",
       "  68090.5625,\n",
       "  61495.34375,\n",
       "  54984.3984375,\n",
       "  48660.53125,\n",
       "  42521.28125,\n",
       "  36648.3984375,\n",
       "  31034.80859375,\n",
       "  25729.57421875,\n",
       "  20795.375,\n",
       "  16332.5185546875,\n",
       "  12389.9931640625,\n",
       "  8953.576171875,\n",
       "  6103.61376953125,\n",
       "  3879.774169921875,\n",
       "  2387.459716796875,\n",
       "  1517.957275390625,\n",
       "  1203.6778564453125,\n",
       "  1142.27587890625,\n",
       "  1119.8016357421875,\n",
       "  1093.8074951171875,\n",
       "  1065.357177734375,\n",
       "  1041.9027099609375,\n",
       "  1012.2174072265625,\n",
       "  986.435546875,\n",
       "  959.5817260742188,\n",
       "  935.4247436523438,\n",
       "  908.3839111328125,\n",
       "  882.4878540039062,\n",
       "  855.9323120117188,\n",
       "  829.498779296875,\n",
       "  805.1382446289062,\n",
       "  780.0722045898438,\n",
       "  756.3568115234375,\n",
       "  733.3308715820312,\n",
       "  710.3970947265625,\n",
       "  686.4318237304688,\n",
       "  669.3226928710938,\n",
       "  647.9099731445312,\n",
       "  628.9237670898438,\n",
       "  606.7576904296875,\n",
       "  584.5706176757812,\n",
       "  563.5560913085938,\n",
       "  539.7918090820312,\n",
       "  520.5496215820312,\n",
       "  499.784912109375,\n",
       "  480.6820068359375,\n",
       "  463.52557373046875,\n",
       "  446.6614685058594,\n",
       "  431.81085205078125,\n",
       "  413.5020446777344,\n",
       "  397.685546875,\n",
       "  381.55401611328125,\n",
       "  363.0591125488281,\n",
       "  345.268310546875,\n",
       "  330.8714294433594,\n",
       "  313.0822448730469,\n",
       "  296.6797180175781,\n",
       "  279.3392333984375,\n",
       "  264.677978515625,\n",
       "  249.8353729248047,\n",
       "  234.7728729248047,\n",
       "  222.09298706054688,\n",
       "  210.602294921875,\n",
       "  198.5418243408203,\n",
       "  187.72584533691406,\n",
       "  175.6562957763672,\n",
       "  164.41700744628906,\n",
       "  155.07469177246094,\n",
       "  146.0726776123047,\n",
       "  134.88172912597656,\n",
       "  126.73438262939453,\n",
       "  117.90243530273438,\n",
       "  111.24546813964844,\n",
       "  103.50585174560547,\n",
       "  95.95963287353516,\n",
       "  88.56826782226562,\n",
       "  81.6999740600586,\n",
       "  75.4925765991211,\n",
       "  70.00221252441406,\n",
       "  63.36179733276367,\n",
       "  58.43442153930664,\n",
       "  54.717769622802734,\n",
       "  50.81159973144531,\n",
       "  46.824703216552734,\n",
       "  43.65302276611328,\n",
       "  41.2056770324707,\n",
       "  38.65436553955078,\n",
       "  36.81940460205078,\n",
       "  34.86079025268555,\n",
       "  33.352542877197266,\n",
       "  32.693302154541016,\n",
       "  31.225109100341797,\n",
       "  29.739107131958008,\n",
       "  29.917879104614258,\n",
       "  28.057889938354492,\n",
       "  27.861942291259766,\n",
       "  26.95967674255371,\n",
       "  26.501373291015625,\n",
       "  26.560388565063477,\n",
       "  26.19438934326172,\n",
       "  25.393693923950195,\n",
       "  26.034801483154297,\n",
       "  25.23333740234375,\n",
       "  25.16065788269043,\n",
       "  25.137998580932617,\n",
       "  24.78975486755371,\n",
       "  24.637271881103516,\n",
       "  24.569612503051758,\n",
       "  24.580265045166016,\n",
       "  24.746444702148438,\n",
       "  24.559858322143555,\n",
       "  24.219938278198242,\n",
       "  24.59978485107422,\n",
       "  24.17400360107422,\n",
       "  24.863937377929688,\n",
       "  25.009077072143555,\n",
       "  24.18334197998047,\n",
       "  24.328704833984375,\n",
       "  24.69254493713379,\n",
       "  24.701696395874023,\n",
       "  24.48555564880371,\n",
       "  24.561269760131836,\n",
       "  24.430850982666016,\n",
       "  24.38882064819336,\n",
       "  24.606889724731445,\n",
       "  24.32188606262207,\n",
       "  24.066892623901367,\n",
       "  24.441110610961914,\n",
       "  24.627410888671875,\n",
       "  24.613632202148438,\n",
       "  24.35038185119629,\n",
       "  24.468852996826172,\n",
       "  24.10303497314453,\n",
       "  24.215742111206055,\n",
       "  24.74376678466797,\n",
       "  24.254154205322266,\n",
       "  24.243061065673828,\n",
       "  24.42165184020996,\n",
       "  23.93023109436035,\n",
       "  24.4764461517334,\n",
       "  24.350961685180664,\n",
       "  24.260417938232422,\n",
       "  24.266401290893555,\n",
       "  24.1401309967041,\n",
       "  24.697839736938477,\n",
       "  24.33778190612793,\n",
       "  24.2735595703125,\n",
       "  24.162433624267578,\n",
       "  24.27076530456543,\n",
       "  24.14014434814453,\n",
       "  24.199901580810547,\n",
       "  24.449676513671875,\n",
       "  24.806339263916016,\n",
       "  24.20449447631836,\n",
       "  24.295764923095703,\n",
       "  24.216440200805664,\n",
       "  24.31772804260254,\n",
       "  24.26432991027832,\n",
       "  24.493906021118164,\n",
       "  24.384754180908203,\n",
       "  24.306747436523438,\n",
       "  24.19430160522461,\n",
       "  24.23035430908203,\n",
       "  24.658939361572266,\n",
       "  24.677383422851562,\n",
       "  24.41367530822754,\n",
       "  24.537818908691406,\n",
       "  23.921680450439453,\n",
       "  24.381938934326172,\n",
       "  24.482446670532227,\n",
       "  24.44975471496582,\n",
       "  24.67390251159668,\n",
       "  24.437929153442383,\n",
       "  24.551149368286133,\n",
       "  24.39250373840332,\n",
       "  24.36052703857422,\n",
       "  24.049091339111328,\n",
       "  24.631147384643555,\n",
       "  23.950700759887695,\n",
       "  24.424503326416016,\n",
       "  24.52522850036621,\n",
       "  24.211341857910156,\n",
       "  24.323026657104492,\n",
       "  24.18479347229004,\n",
       "  24.620576858520508,\n",
       "  24.097402572631836,\n",
       "  24.592388153076172,\n",
       "  24.275745391845703]}"
      ]
     },
     "execution_count": 77,
     "metadata": {},
     "output_type": "execute_result"
    }
   ],
   "source": [
    "model.history.history"
   ]
  },
  {
   "cell_type": "code",
   "execution_count": 78,
   "metadata": {},
   "outputs": [
    {
     "data": {
      "text/html": [
       "<div>\n",
       "<style scoped>\n",
       "    .dataframe tbody tr th:only-of-type {\n",
       "        vertical-align: middle;\n",
       "    }\n",
       "\n",
       "    .dataframe tbody tr th {\n",
       "        vertical-align: top;\n",
       "    }\n",
       "\n",
       "    .dataframe thead th {\n",
       "        text-align: right;\n",
       "    }\n",
       "</style>\n",
       "<table border=\"1\" class=\"dataframe\">\n",
       "  <thead>\n",
       "    <tr style=\"text-align: right;\">\n",
       "      <th></th>\n",
       "      <th>loss</th>\n",
       "    </tr>\n",
       "  </thead>\n",
       "  <tbody>\n",
       "    <tr>\n",
       "      <th>0</th>\n",
       "      <td>256584.281</td>\n",
       "    </tr>\n",
       "    <tr>\n",
       "      <th>1</th>\n",
       "      <td>256445.469</td>\n",
       "    </tr>\n",
       "    <tr>\n",
       "      <th>2</th>\n",
       "      <td>256295.078</td>\n",
       "    </tr>\n",
       "    <tr>\n",
       "      <th>3</th>\n",
       "      <td>256122.422</td>\n",
       "    </tr>\n",
       "    <tr>\n",
       "      <th>4</th>\n",
       "      <td>255925.844</td>\n",
       "    </tr>\n",
       "    <tr>\n",
       "      <th>...</th>\n",
       "      <td>...</td>\n",
       "    </tr>\n",
       "    <tr>\n",
       "      <th>245</th>\n",
       "      <td>24.185</td>\n",
       "    </tr>\n",
       "    <tr>\n",
       "      <th>246</th>\n",
       "      <td>24.621</td>\n",
       "    </tr>\n",
       "    <tr>\n",
       "      <th>247</th>\n",
       "      <td>24.097</td>\n",
       "    </tr>\n",
       "    <tr>\n",
       "      <th>248</th>\n",
       "      <td>24.592</td>\n",
       "    </tr>\n",
       "    <tr>\n",
       "      <th>249</th>\n",
       "      <td>24.276</td>\n",
       "    </tr>\n",
       "  </tbody>\n",
       "</table>\n",
       "<p>250 rows × 1 columns</p>\n",
       "</div>"
      ],
      "text/plain": [
       "          loss\n",
       "0   256584.281\n",
       "1   256445.469\n",
       "2   256295.078\n",
       "3   256122.422\n",
       "4   255925.844\n",
       "..         ...\n",
       "245     24.185\n",
       "246     24.621\n",
       "247     24.097\n",
       "248     24.592\n",
       "249     24.276\n",
       "\n",
       "[250 rows x 1 columns]"
      ]
     },
     "execution_count": 78,
     "metadata": {},
     "output_type": "execute_result"
    }
   ],
   "source": [
    "pd.DataFrame(model.history.history)"
   ]
  },
  {
   "cell_type": "code",
   "execution_count": 82,
   "metadata": {},
   "outputs": [
    {
     "data": {
      "image/png": "[encoded data removed]",
      "text/plain": [
       "<Figure size 1000x600 with 1 Axes>"
      ]
     },
     "metadata": {},
     "output_type": "display_data"
    },
    {
     "data": {
      "image/png": "[encoded data removed]",
      "text/plain": [
       "<Figure size 1000x600 with 1 Axes>"
      ]
     },
     "metadata": {},
     "output_type": "display_data"
    },
    {
     "data": {
      "image/png": "[encoded data removed]",
      "text/plain": [
       "<Figure size 1000x600 with 1 Axes>"
      ]
     },
     "metadata": {},
     "output_type": "display_data"
    },
    {
     "data": {
      "image/png": "[encoded data removed]",
      "text/plain": [
       "<Figure size 1000x600 with 1 Axes>"
      ]
     },
     "metadata": {},
     "output_type": "display_data"
    },
    {
     "data": {
      "image/png": "[encoded data removed]",
      "text/plain": [
       "<Figure size 1000x600 with 1 Axes>"
      ]
     },
     "metadata": {},
     "output_type": "display_data"
    },
    {
     "data": {
      "image/png": "[encoded data removed]",
      "text/plain": [
       "<Figure size 1000x600 with 1 Axes>"
      ]
     },
     "metadata": {},
     "output_type": "display_data"
    },
    {
     "data": {
      "image/png": "[encoded data removed]",
      "text/plain": [
       "<Figure size 1000x600 with 1 Axes>"
      ]
     },
     "metadata": {},
     "output_type": "display_data"
    },
    {
     "data": {
      "image/png": "[encoded data removed]",
      "text/plain": [
       "<Figure size 1000x600 with 1 Axes>"
      ]
     },
     "metadata": {},
     "output_type": "display_data"
    },
    {
     "data": {
      "image/png": "[encoded data removed]",
      "text/plain": [
       "<Figure size 1000x600 with 1 Axes>"
      ]
     },
     "metadata": {},
     "output_type": "display_data"
    },
    {
     "data": {
      "image/png": "[encoded data removed]",
      "text/plain": [
       "<Figure size 1000x600 with 1 Axes>"
      ]
     },
     "metadata": {},
     "output_type": "display_data"
    },
    {
     "data": {
      "image/png": "[encoded data removed]",
      "text/plain": [
       "<Figure size 1000x600 with 1 Axes>"
      ]
     },
     "metadata": {},
     "output_type": "display_data"
    }
   ],
   "source": [
    "loss_df = pd.DataFrame(model.history.history)\n",
    "loss_df.plot()\n",
    "plt.show()"
   ]
  },
  {
   "cell_type": "code",
   "execution_count": 84,
   "metadata": {},
   "outputs": [
    {
     "data": {
      "image/png": "[encoded data removed]",
      "text/plain": [
       "<Figure size 1000x600 with 1 Axes>"
      ]
     },
     "metadata": {},
     "output_type": "display_data"
    },
    {
     "data": {
      "image/png": "[encoded data removed]",
      "text/plain": [
       "<Figure size 1000x600 with 1 Axes>"
      ]
     },
     "metadata": {},
     "output_type": "display_data"
    }
   ],
   "source": [
    "fig, ax= plt.subplots()\n",
    "ax.plot(loss_df)\n",
    "ax.set_xlabel(\"epoch\")\n",
    "ax.set_ylabel(\"loss\")\n",
    "ax.set_title(\"loss - epoch graph\")\n",
    "ax.set_xlim([0, 250]) # focusing on the given x values\n",
    "ax.set_ylim([0, 3000]) # focusing on the given y values\n",
    "plt.show()"
   ]
  },
  {
   "cell_type": "markdown",
   "metadata": {},
   "source": [
    "## Model Performance"
   ]
  },
  {
   "cell_type": "code",
   "execution_count": 85,
   "metadata": {},
   "outputs": [],
   "source": [
    "from sklearn.metrics import mean_squared_error, mean_absolute_error, r2_score"
   ]
  },
  {
   "cell_type": "code",
   "execution_count": 86,
   "metadata": {},
   "outputs": [
    {
     "data": {
      "text/plain": [
       "24.78687286376953"
      ]
     },
     "execution_count": 86,
     "metadata": {},
     "output_type": "execute_result"
    }
   ],
   "source": [
    "model.evaluate(X_train, y_train, verbose=0)"
   ]
  },
  {
   "cell_type": "code",
   "execution_count": 87,
   "metadata": {},
   "outputs": [
    {
     "data": {
      "text/plain": [
       "27.128398895263672"
      ]
     },
     "execution_count": 87,
     "metadata": {},
     "output_type": "execute_result"
    }
   ],
   "source": [
    "model.evaluate(X_test, y_test, verbose=0)"
   ]
  },
  {
   "cell_type": "code",
   "execution_count": 88,
   "metadata": {},
   "outputs": [
    {
     "name": "stdout",
     "output_type": "stream",
     "text": [
      "10/10 [==============================] - 0s 981us/step\n"
     ]
    },
    {
     "data": {
      "text/plain": [
       "(300, 1)"
      ]
     },
     "execution_count": 88,
     "metadata": {},
     "output_type": "execute_result"
    }
   ],
   "source": [
    "y_pred = model.predict(X_test)\n",
    "y_pred.shape"
   ]
  },
  {
   "cell_type": "code",
   "execution_count": 89,
   "metadata": {},
   "outputs": [
    {
     "data": {
      "text/plain": [
       "(300,)"
      ]
     },
     "execution_count": 89,
     "metadata": {},
     "output_type": "execute_result"
    }
   ],
   "source": [
    "y_test.shape"
   ]
  },
  {
   "cell_type": "code",
   "execution_count": 90,
   "metadata": {},
   "outputs": [
    {
     "data": {
      "text/plain": [
       "(300,)"
      ]
     },
     "execution_count": 90,
     "metadata": {},
     "output_type": "execute_result"
    }
   ],
   "source": [
    "y_pred.reshape(-1,).shape"
   ]
  },
  {
   "cell_type": "code",
   "execution_count": 91,
   "metadata": {},
   "outputs": [
    {
     "data": {
      "text/html": [
       "<div>\n",
       "<style scoped>\n",
       "    .dataframe tbody tr th:only-of-type {\n",
       "        vertical-align: middle;\n",
       "    }\n",
       "\n",
       "    .dataframe tbody tr th {\n",
       "        vertical-align: top;\n",
       "    }\n",
       "\n",
       "    .dataframe thead th {\n",
       "        text-align: right;\n",
       "    }\n",
       "</style>\n",
       "<table border=\"1\" class=\"dataframe\">\n",
       "  <thead>\n",
       "    <tr style=\"text-align: right;\">\n",
       "      <th></th>\n",
       "      <th>Actual</th>\n",
       "      <th>Pred</th>\n",
       "    </tr>\n",
       "  </thead>\n",
       "  <tbody>\n",
       "    <tr>\n",
       "      <th>761</th>\n",
       "      <td>674.311</td>\n",
       "      <td>664.372</td>\n",
       "    </tr>\n",
       "    <tr>\n",
       "      <th>542</th>\n",
       "      <td>689.173</td>\n",
       "      <td>684.659</td>\n",
       "    </tr>\n",
       "    <tr>\n",
       "      <th>218</th>\n",
       "      <td>438.265</td>\n",
       "      <td>436.405</td>\n",
       "    </tr>\n",
       "    <tr>\n",
       "      <th>298</th>\n",
       "      <td>511.367</td>\n",
       "      <td>513.748</td>\n",
       "    </tr>\n",
       "    <tr>\n",
       "      <th>595</th>\n",
       "      <td>604.573</td>\n",
       "      <td>606.237</td>\n",
       "    </tr>\n",
       "    <tr>\n",
       "      <th>60</th>\n",
       "      <td>355.795</td>\n",
       "      <td>347.034</td>\n",
       "    </tr>\n",
       "    <tr>\n",
       "      <th>429</th>\n",
       "      <td>526.448</td>\n",
       "      <td>530.271</td>\n",
       "    </tr>\n",
       "    <tr>\n",
       "      <th>994</th>\n",
       "      <td>481.863</td>\n",
       "      <td>480.813</td>\n",
       "    </tr>\n",
       "    <tr>\n",
       "      <th>613</th>\n",
       "      <td>497.465</td>\n",
       "      <td>494.012</td>\n",
       "    </tr>\n",
       "    <tr>\n",
       "      <th>76</th>\n",
       "      <td>547.732</td>\n",
       "      <td>550.464</td>\n",
       "    </tr>\n",
       "  </tbody>\n",
       "</table>\n",
       "</div>"
      ],
      "text/plain": [
       "     Actual    Pred\n",
       "761 674.311 664.372\n",
       "542 689.173 684.659\n",
       "218 438.265 436.405\n",
       "298 511.367 513.748\n",
       "595 604.573 606.237\n",
       "60  355.795 347.034\n",
       "429 526.448 530.271\n",
       "994 481.863 480.813\n",
       "613 497.465 494.012\n",
       "76  547.732 550.464"
      ]
     },
     "execution_count": 91,
     "metadata": {},
     "output_type": "execute_result"
    }
   ],
   "source": [
    "my_dict = {\"Actual\" : y_test, \"Pred\" : y_pred.reshape(-1,)}\n",
    "compare = pd.DataFrame(my_dict)\n",
    "compare.sample(10)"
   ]
  },
  {
   "cell_type": "code",
   "execution_count": 92,
   "metadata": {},
   "outputs": [
    {
     "data": {
      "text/plain": [
       "<AxesSubplot:xlabel='Actual', ylabel='Pred'>"
      ]
     },
     "execution_count": 92,
     "metadata": {},
     "output_type": "execute_result"
    }
   ],
   "source": [
    "sns.scatterplot(x = 'Actual', y = 'Pred', data = compare)"
   ]
  },
  {
   "cell_type": "code",
   "execution_count": 93,
   "metadata": {},
   "outputs": [],
   "source": [
    "def eval_metric(actual, pred):\n",
    "    mae = mean_absolute_error(actual, pred)\n",
    "    mse = mean_squared_error(actual, pred)\n",
    "    rmse = np.sqrt(mean_squared_error(actual, pred))\n",
    "    score = r2_score(actual, pred)\n",
    "    return print(\"r2_score:\", score, \"\\nmae:\", mae, \"\\nmse:\", mse, \"\\nrmse:\", rmse)"
   ]
  },
  {
   "cell_type": "code",
   "execution_count": 94,
   "metadata": {},
   "outputs": [
    {
     "name": "stdout",
     "output_type": "stream",
     "text": [
      "r2_score: 0.9969144335493327 \n",
      "mae: 4.224994250606731 \n",
      "mse: 27.12839794000149 \n",
      "rmse: 5.208492866463531\n"
     ]
    }
   ],
   "source": [
    "eval_metric(y_test, y_pred)"
   ]
  },
  {
   "cell_type": "markdown",
   "metadata": {},
   "source": [
    "## Final Model and Model Deployment"
   ]
  },
  {
   "cell_type": "markdown",
   "metadata": {},
   "source": [
    "### Final Model Training"
   ]
  },
  {
   "cell_type": "code",
   "execution_count": 95,
   "metadata": {},
   "outputs": [],
   "source": [
    "scaler = MinMaxScaler().fit(X)"
   ]
  },
  {
   "cell_type": "code",
   "execution_count": 96,
   "metadata": {},
   "outputs": [],
   "source": [
    "import pickle\n",
    "pickle.dump(scaler, open(\"scaler_fake_reg\", 'wb'))"
   ]
  },
  {
   "cell_type": "code",
   "execution_count": 97,
   "metadata": {},
   "outputs": [],
   "source": [
    "X_scaled = scaler.transform(X)"
   ]
  },
  {
   "cell_type": "code",
   "execution_count": 98,
   "metadata": {},
   "outputs": [
    {
     "name": "stdout",
     "output_type": "stream",
     "text": [
      "Epoch 1/250\n",
      "32/32 [==============================] - 1s 1ms/step - loss: 257262.1094\n",
      "Epoch 2/250\n",
      "32/32 [==============================] - 0s 1ms/step - loss: 256978.0156\n",
      "Epoch 3/250\n",
      "32/32 [==============================] - 0s 1ms/step - loss: 256613.5469\n",
      "Epoch 4/250\n",
      "32/32 [==============================] - 0s 1ms/step - loss: 256150.3750\n",
      "Epoch 5/250\n",
      "32/32 [==============================] - 0s 1ms/step - loss: 255501.2188\n",
      "Epoch 6/250\n",
      "32/32 [==============================] - 0s 1ms/step - loss: 254581.9688\n",
      "Epoch 7/250\n",
      "32/32 [==============================] - 0s 1ms/step - loss: 253439.8438\n",
      "Epoch 8/250\n",
      "32/32 [==============================] - 0s 1ms/step - loss: 252042.7031\n",
      "Epoch 9/250\n",
      "32/32 [==============================] - 0s 1ms/step - loss: 250436.2812\n",
      "Epoch 10/250\n",
      "32/32 [==============================] - 0s 1ms/step - loss: 248544.3594\n",
      "Epoch 11/250\n",
      "32/32 [==============================] - 0s 1ms/step - loss: 246319.2656\n",
      "Epoch 12/250\n",
      "32/32 [==============================] - 0s 1ms/step - loss: 243752.1562\n",
      "Epoch 13/250\n",
      "32/32 [==============================] - 0s 1ms/step - loss: 240797.5625\n",
      "Epoch 14/250\n",
      "32/32 [==============================] - 0s 2ms/step - loss: 237396.1406\n",
      "Epoch 15/250\n",
      "32/32 [==============================] - 0s 1ms/step - loss: 233541.1406\n",
      "Epoch 16/250\n",
      "32/32 [==============================] - 0s 1ms/step - loss: 229216.1250\n",
      "Epoch 17/250\n",
      "32/32 [==============================] - 0s 1ms/step - loss: 224389.0938\n",
      "Epoch 18/250\n",
      "32/32 [==============================] - 0s 1ms/step - loss: 218984.5781\n",
      "Epoch 19/250\n",
      "32/32 [==============================] - 0s 1ms/step - loss: 213056.5156\n",
      "Epoch 20/250\n",
      "32/32 [==============================] - 0s 2ms/step - loss: 206543.7812\n",
      "Epoch 21/250\n",
      "32/32 [==============================] - 0s 1ms/step - loss: 199380.2500\n",
      "Epoch 22/250\n",
      "32/32 [==============================] - 0s 1ms/step - loss: 191639.3125\n",
      "Epoch 23/250\n",
      "32/32 [==============================] - 0s 1ms/step - loss: 183288.9688\n",
      "Epoch 24/250\n",
      "32/32 [==============================] - 0s 1ms/step - loss: 174317.1562\n",
      "Epoch 25/250\n",
      "32/32 [==============================] - 0s 1ms/step - loss: 164819.5625\n",
      "Epoch 26/250\n",
      "32/32 [==============================] - 0s 1ms/step - loss: 154704.4375\n",
      "Epoch 27/250\n",
      "32/32 [==============================] - 0s 1ms/step - loss: 144110.3125\n",
      "Epoch 28/250\n",
      "32/32 [==============================] - 0s 1ms/step - loss: 132952.3281\n",
      "Epoch 29/250\n",
      "32/32 [==============================] - 0s 1ms/step - loss: 121454.6250\n",
      "Epoch 30/250\n",
      "32/32 [==============================] - 0s 1ms/step - loss: 109632.7656\n",
      "Epoch 31/250\n",
      "32/32 [==============================] - 0s 1ms/step - loss: 97551.3125\n",
      "Epoch 32/250\n",
      "32/32 [==============================] - 0s 1ms/step - loss: 85318.2734\n",
      "Epoch 33/250\n",
      "32/32 [==============================] - 0s 1ms/step - loss: 73210.0156\n",
      "Epoch 34/250\n",
      "32/32 [==============================] - 0s 999us/step - loss: 61320.5547\n",
      "Epoch 35/250\n",
      "32/32 [==============================] - 0s 1ms/step - loss: 49885.7695\n",
      "Epoch 36/250\n",
      "32/32 [==============================] - 0s 1ms/step - loss: 39099.2695\n",
      "Epoch 37/250\n",
      "32/32 [==============================] - 0s 2ms/step - loss: 29127.0723\n",
      "Epoch 38/250\n",
      "32/32 [==============================] - 0s 1ms/step - loss: 20348.6426\n",
      "Epoch 39/250\n",
      "32/32 [==============================] - 0s 1ms/step - loss: 13020.7734\n",
      "Epoch 40/250\n",
      "32/32 [==============================] - 0s 1ms/step - loss: 7464.3779\n",
      "Epoch 41/250\n",
      "32/32 [==============================] - 0s 890us/step - loss: 3955.4077\n",
      "Epoch 42/250\n",
      "32/32 [==============================] - 0s 1ms/step - loss: 2411.0435\n",
      "Epoch 43/250\n",
      "32/32 [==============================] - 0s 1ms/step - loss: 2170.0701\n",
      "Epoch 44/250\n",
      "32/32 [==============================] - 0s 1ms/step - loss: 2101.9746\n",
      "Epoch 45/250\n",
      "32/32 [==============================] - 0s 1ms/step - loss: 2028.7166\n",
      "Epoch 46/250\n",
      "32/32 [==============================] - 0s 1ms/step - loss: 1953.3168\n",
      "Epoch 47/250\n",
      "32/32 [==============================] - 0s 1ms/step - loss: 1874.9341\n",
      "Epoch 48/250\n",
      "32/32 [==============================] - 0s 1ms/step - loss: 1804.5140\n",
      "Epoch 49/250\n",
      "32/32 [==============================] - 0s 2ms/step - loss: 1739.6260\n",
      "Epoch 50/250\n",
      "32/32 [==============================] - 0s 1ms/step - loss: 1673.7871\n",
      "Epoch 51/250\n",
      "32/32 [==============================] - 0s 1ms/step - loss: 1606.5834\n",
      "Epoch 52/250\n",
      "32/32 [==============================] - 0s 1ms/step - loss: 1538.2637\n",
      "Epoch 53/250\n",
      "32/32 [==============================] - 0s 1ms/step - loss: 1480.6700\n",
      "Epoch 54/250\n",
      "32/32 [==============================] - 0s 1ms/step - loss: 1410.6620\n",
      "Epoch 55/250\n",
      "32/32 [==============================] - 0s 1ms/step - loss: 1344.8027\n",
      "Epoch 56/250\n",
      "32/32 [==============================] - 0s 1ms/step - loss: 1277.0795\n",
      "Epoch 57/250\n",
      "32/32 [==============================] - 0s 912us/step - loss: 1218.3986\n",
      "Epoch 58/250\n",
      "32/32 [==============================] - 0s 924us/step - loss: 1156.6049\n",
      "Epoch 59/250\n",
      "32/32 [==============================] - 0s 866us/step - loss: 1096.7460\n",
      "Epoch 60/250\n",
      "32/32 [==============================] - 0s 1ms/step - loss: 1045.7004\n",
      "Epoch 61/250\n",
      "32/32 [==============================] - 0s 1ms/step - loss: 992.7428\n",
      "Epoch 62/250\n",
      "32/32 [==============================] - 0s 1ms/step - loss: 940.3102\n",
      "Epoch 63/250\n",
      "32/32 [==============================] - 0s 901us/step - loss: 887.8969\n",
      "Epoch 64/250\n",
      "32/32 [==============================] - 0s 970us/step - loss: 842.0115\n",
      "Epoch 65/250\n",
      "32/32 [==============================] - 0s 972us/step - loss: 789.4333\n",
      "Epoch 66/250\n",
      "32/32 [==============================] - 0s 953us/step - loss: 743.3181\n",
      "Epoch 67/250\n",
      "32/32 [==============================] - 0s 1ms/step - loss: 698.2106\n",
      "Epoch 68/250\n",
      "32/32 [==============================] - 0s 1ms/step - loss: 656.3015\n",
      "Epoch 69/250\n",
      "32/32 [==============================] - 0s 897us/step - loss: 614.3834\n",
      "Epoch 70/250\n",
      "32/32 [==============================] - 0s 1ms/step - loss: 575.0262\n",
      "Epoch 71/250\n",
      "32/32 [==============================] - 0s 954us/step - loss: 532.4252\n",
      "Epoch 72/250\n",
      "32/32 [==============================] - 0s 1ms/step - loss: 493.7987\n",
      "Epoch 73/250\n",
      "32/32 [==============================] - 0s 894us/step - loss: 456.9695\n",
      "Epoch 74/250\n",
      "32/32 [==============================] - 0s 910us/step - loss: 422.8385\n",
      "Epoch 75/250\n",
      "32/32 [==============================] - 0s 966us/step - loss: 386.5375\n",
      "Epoch 76/250\n",
      "32/32 [==============================] - 0s 1ms/step - loss: 353.6147\n",
      "Epoch 77/250\n",
      "32/32 [==============================] - 0s 908us/step - loss: 320.5680\n",
      "Epoch 78/250\n",
      "32/32 [==============================] - 0s 837us/step - loss: 293.7833\n",
      "Epoch 79/250\n",
      "32/32 [==============================] - 0s 1ms/step - loss: 266.3715\n",
      "Epoch 80/250\n",
      "32/32 [==============================] - 0s 959us/step - loss: 241.3895\n",
      "Epoch 81/250\n",
      "32/32 [==============================] - 0s 867us/step - loss: 216.5840\n",
      "Epoch 82/250\n",
      "32/32 [==============================] - 0s 852us/step - loss: 195.2124\n",
      "Epoch 83/250\n",
      "32/32 [==============================] - 0s 849us/step - loss: 174.3277\n",
      "Epoch 84/250\n",
      "32/32 [==============================] - 0s 903us/step - loss: 152.7108\n",
      "Epoch 85/250\n",
      "32/32 [==============================] - 0s 1ms/step - loss: 135.1517\n",
      "Epoch 86/250\n",
      "32/32 [==============================] - 0s 1ms/step - loss: 117.6622\n",
      "Epoch 87/250\n",
      "32/32 [==============================] - 0s 1ms/step - loss: 100.8142\n",
      "Epoch 88/250\n",
      "32/32 [==============================] - 0s 1ms/step - loss: 86.8149\n",
      "Epoch 89/250\n",
      "32/32 [==============================] - 0s 931us/step - loss: 75.6486\n",
      "Epoch 90/250\n",
      "32/32 [==============================] - 0s 971us/step - loss: 66.2580\n",
      "Epoch 91/250\n",
      "32/32 [==============================] - 0s 1ms/step - loss: 57.1213\n",
      "Epoch 92/250\n",
      "32/32 [==============================] - 0s 1ms/step - loss: 49.4987\n",
      "Epoch 93/250\n",
      "32/32 [==============================] - 0s 1ms/step - loss: 43.6886\n",
      "Epoch 94/250\n",
      "32/32 [==============================] - 0s 1ms/step - loss: 39.2319\n",
      "Epoch 95/250\n",
      "32/32 [==============================] - 0s 1ms/step - loss: 36.0040\n",
      "Epoch 96/250\n",
      "32/32 [==============================] - 0s 968us/step - loss: 32.8134\n",
      "Epoch 97/250\n"
     ]
    },
    {
     "name": "stdout",
     "output_type": "stream",
     "text": [
      "32/32 [==============================] - 0s 999us/step - loss: 30.6253\n",
      "Epoch 98/250\n",
      "32/32 [==============================] - 0s 905us/step - loss: 29.2521\n",
      "Epoch 99/250\n",
      "32/32 [==============================] - 0s 918us/step - loss: 28.3200\n",
      "Epoch 100/250\n",
      "32/32 [==============================] - 0s 995us/step - loss: 27.4549\n",
      "Epoch 101/250\n",
      "32/32 [==============================] - 0s 957us/step - loss: 26.7245\n",
      "Epoch 102/250\n",
      "32/32 [==============================] - 0s 1ms/step - loss: 26.4410\n",
      "Epoch 103/250\n",
      "32/32 [==============================] - 0s 1ms/step - loss: 25.8338\n",
      "Epoch 104/250\n",
      "32/32 [==============================] - 0s 1ms/step - loss: 25.6038\n",
      "Epoch 105/250\n",
      "32/32 [==============================] - 0s 1ms/step - loss: 25.3651\n",
      "Epoch 106/250\n",
      "32/32 [==============================] - 0s 998us/step - loss: 25.3318\n",
      "Epoch 107/250\n",
      "32/32 [==============================] - 0s 1ms/step - loss: 25.2179\n",
      "Epoch 108/250\n",
      "32/32 [==============================] - 0s 904us/step - loss: 24.9883\n",
      "Epoch 109/250\n",
      "32/32 [==============================] - 0s 951us/step - loss: 24.9445\n",
      "Epoch 110/250\n",
      "32/32 [==============================] - 0s 1ms/step - loss: 25.0750\n",
      "Epoch 111/250\n",
      "32/32 [==============================] - 0s 1ms/step - loss: 24.8519\n",
      "Epoch 112/250\n",
      "32/32 [==============================] - 0s 1ms/step - loss: 24.5977\n",
      "Epoch 113/250\n",
      "32/32 [==============================] - 0s 1ms/step - loss: 24.4561\n",
      "Epoch 114/250\n",
      "32/32 [==============================] - 0s 1ms/step - loss: 25.4145\n",
      "Epoch 115/250\n",
      "32/32 [==============================] - 0s 1ms/step - loss: 24.9103\n",
      "Epoch 116/250\n",
      "32/32 [==============================] - 0s 1ms/step - loss: 24.7372\n",
      "Epoch 117/250\n",
      "32/32 [==============================] - 0s 998us/step - loss: 24.6566\n",
      "Epoch 118/250\n",
      "32/32 [==============================] - 0s 1ms/step - loss: 24.7921\n",
      "Epoch 119/250\n",
      "32/32 [==============================] - 0s 1ms/step - loss: 25.1056\n",
      "Epoch 120/250\n",
      "32/32 [==============================] - 0s 1ms/step - loss: 24.2452\n",
      "Epoch 121/250\n",
      "32/32 [==============================] - 0s 1ms/step - loss: 24.9416\n",
      "Epoch 122/250\n",
      "32/32 [==============================] - 0s 2ms/step - loss: 25.2792\n",
      "Epoch 123/250\n",
      "32/32 [==============================] - 0s 1ms/step - loss: 25.1109\n",
      "Epoch 124/250\n",
      "32/32 [==============================] - 0s 1ms/step - loss: 24.8229\n",
      "Epoch 125/250\n",
      "32/32 [==============================] - 0s 1ms/step - loss: 24.7877\n",
      "Epoch 126/250\n",
      "32/32 [==============================] - 0s 1ms/step - loss: 25.3608\n",
      "Epoch 127/250\n",
      "32/32 [==============================] - 0s 967us/step - loss: 24.7374\n",
      "Epoch 128/250\n",
      "32/32 [==============================] - 0s 1ms/step - loss: 24.9547\n",
      "Epoch 129/250\n",
      "32/32 [==============================] - 0s 1ms/step - loss: 24.9015\n",
      "Epoch 130/250\n",
      "32/32 [==============================] - 0s 954us/step - loss: 24.7084\n",
      "Epoch 131/250\n",
      "32/32 [==============================] - 0s 997us/step - loss: 24.8978\n",
      "Epoch 132/250\n",
      "32/32 [==============================] - 0s 1ms/step - loss: 25.1850\n",
      "Epoch 133/250\n",
      "32/32 [==============================] - 0s 913us/step - loss: 24.8418\n",
      "Epoch 134/250\n",
      "32/32 [==============================] - 0s 1ms/step - loss: 24.9425\n",
      "Epoch 135/250\n",
      "32/32 [==============================] - 0s 1ms/step - loss: 24.5338\n",
      "Epoch 136/250\n",
      "32/32 [==============================] - 0s 1ms/step - loss: 25.4961\n",
      "Epoch 137/250\n",
      "32/32 [==============================] - 0s 964us/step - loss: 24.6392\n",
      "Epoch 138/250\n",
      "32/32 [==============================] - 0s 993us/step - loss: 25.0301\n",
      "Epoch 139/250\n",
      "32/32 [==============================] - 0s 954us/step - loss: 24.6800\n",
      "Epoch 140/250\n",
      "32/32 [==============================] - 0s 929us/step - loss: 24.4761\n",
      "Epoch 141/250\n",
      "32/32 [==============================] - 0s 881us/step - loss: 25.1896\n",
      "Epoch 142/250\n",
      "32/32 [==============================] - 0s 950us/step - loss: 24.8107\n",
      "Epoch 143/250\n",
      "32/32 [==============================] - 0s 922us/step - loss: 24.8523\n",
      "Epoch 144/250\n",
      "32/32 [==============================] - 0s 978us/step - loss: 24.9596\n",
      "Epoch 145/250\n",
      "32/32 [==============================] - 0s 1ms/step - loss: 24.7409\n",
      "Epoch 146/250\n",
      "32/32 [==============================] - 0s 875us/step - loss: 24.6230\n",
      "Epoch 147/250\n",
      "32/32 [==============================] - 0s 931us/step - loss: 24.7290\n",
      "Epoch 148/250\n",
      "32/32 [==============================] - 0s 917us/step - loss: 24.8911\n",
      "Epoch 149/250\n",
      "32/32 [==============================] - 0s 1ms/step - loss: 24.8859\n",
      "Epoch 150/250\n",
      "32/32 [==============================] - 0s 1ms/step - loss: 24.9880\n",
      "Epoch 151/250\n",
      "32/32 [==============================] - 0s 1ms/step - loss: 25.1469\n",
      "Epoch 152/250\n",
      "32/32 [==============================] - 0s 1ms/step - loss: 25.2477\n",
      "Epoch 153/250\n",
      "32/32 [==============================] - 0s 1ms/step - loss: 25.0521\n",
      "Epoch 154/250\n",
      "32/32 [==============================] - 0s 1ms/step - loss: 25.1094\n",
      "Epoch 155/250\n",
      "32/32 [==============================] - 0s 1ms/step - loss: 24.9252\n",
      "Epoch 156/250\n",
      "32/32 [==============================] - 0s 1ms/step - loss: 24.8381\n",
      "Epoch 157/250\n",
      "32/32 [==============================] - 0s 1ms/step - loss: 24.7858\n",
      "Epoch 158/250\n",
      "32/32 [==============================] - 0s 1ms/step - loss: 24.9947\n",
      "Epoch 159/250\n",
      "32/32 [==============================] - 0s 1ms/step - loss: 25.2253\n",
      "Epoch 160/250\n",
      "32/32 [==============================] - 0s 1ms/step - loss: 25.3162\n",
      "Epoch 161/250\n",
      "32/32 [==============================] - 0s 1ms/step - loss: 24.7332\n",
      "Epoch 162/250\n",
      "32/32 [==============================] - 0s 1ms/step - loss: 24.7192\n",
      "Epoch 163/250\n",
      "32/32 [==============================] - 0s 1ms/step - loss: 24.9524\n",
      "Epoch 164/250\n",
      "32/32 [==============================] - 0s 1ms/step - loss: 25.0913\n",
      "Epoch 165/250\n",
      "32/32 [==============================] - 0s 1ms/step - loss: 25.4782\n",
      "Epoch 166/250\n",
      "32/32 [==============================] - 0s 1ms/step - loss: 24.7503\n",
      "Epoch 167/250\n",
      "32/32 [==============================] - 0s 1ms/step - loss: 24.8015\n",
      "Epoch 168/250\n",
      "32/32 [==============================] - 0s 1ms/step - loss: 24.8011\n",
      "Epoch 169/250\n",
      "32/32 [==============================] - 0s 1ms/step - loss: 25.0708\n",
      "Epoch 170/250\n",
      "32/32 [==============================] - 0s 1ms/step - loss: 24.8058\n",
      "Epoch 171/250\n",
      "32/32 [==============================] - 0s 1ms/step - loss: 25.0232\n",
      "Epoch 172/250\n",
      "32/32 [==============================] - 0s 1ms/step - loss: 24.9673\n",
      "Epoch 173/250\n",
      "32/32 [==============================] - 0s 1ms/step - loss: 24.8317\n",
      "Epoch 174/250\n",
      "32/32 [==============================] - 0s 1ms/step - loss: 24.9057\n",
      "Epoch 175/250\n",
      "32/32 [==============================] - 0s 961us/step - loss: 25.3809\n",
      "Epoch 176/250\n",
      "32/32 [==============================] - 0s 1ms/step - loss: 25.0624\n",
      "Epoch 177/250\n",
      "32/32 [==============================] - 0s 1ms/step - loss: 25.0224\n",
      "Epoch 178/250\n",
      "32/32 [==============================] - 0s 1ms/step - loss: 24.7431\n",
      "Epoch 179/250\n",
      "32/32 [==============================] - 0s 932us/step - loss: 24.6639\n",
      "Epoch 180/250\n",
      "32/32 [==============================] - 0s 992us/step - loss: 25.0057\n",
      "Epoch 181/250\n",
      "32/32 [==============================] - 0s 1ms/step - loss: 24.6255\n",
      "Epoch 182/250\n",
      "32/32 [==============================] - 0s 1ms/step - loss: 25.1935\n",
      "Epoch 183/250\n",
      "32/32 [==============================] - 0s 1ms/step - loss: 24.7433\n",
      "Epoch 184/250\n",
      "32/32 [==============================] - 0s 1ms/step - loss: 24.9332\n",
      "Epoch 185/250\n",
      "32/32 [==============================] - 0s 1ms/step - loss: 25.0079\n",
      "Epoch 186/250\n",
      "32/32 [==============================] - 0s 1ms/step - loss: 24.8247\n",
      "Epoch 187/250\n",
      "32/32 [==============================] - 0s 1ms/step - loss: 25.0465\n",
      "Epoch 188/250\n",
      "32/32 [==============================] - 0s 1ms/step - loss: 24.7963\n",
      "Epoch 189/250\n",
      "32/32 [==============================] - 0s 1ms/step - loss: 24.6571\n",
      "Epoch 190/250\n",
      "32/32 [==============================] - 0s 1ms/step - loss: 25.1722\n",
      "Epoch 191/250\n",
      "32/32 [==============================] - 0s 1ms/step - loss: 24.8326\n",
      "Epoch 192/250\n",
      "32/32 [==============================] - 0s 998us/step - loss: 24.8373\n",
      "Epoch 193/250\n",
      "32/32 [==============================] - 0s 948us/step - loss: 24.9073\n",
      "Epoch 194/250\n",
      "32/32 [==============================] - 0s 892us/step - loss: 25.1925\n",
      "Epoch 195/250\n"
     ]
    },
    {
     "name": "stdout",
     "output_type": "stream",
     "text": [
      "32/32 [==============================] - 0s 1ms/step - loss: 24.8492\n",
      "Epoch 196/250\n",
      "32/32 [==============================] - 0s 1ms/step - loss: 24.9246\n",
      "Epoch 197/250\n",
      "32/32 [==============================] - 0s 1ms/step - loss: 24.7044\n",
      "Epoch 198/250\n",
      "32/32 [==============================] - 0s 878us/step - loss: 25.1352\n",
      "Epoch 199/250\n",
      "32/32 [==============================] - 0s 1ms/step - loss: 25.5602\n",
      "Epoch 200/250\n",
      "32/32 [==============================] - 0s 1ms/step - loss: 24.5475\n",
      "Epoch 201/250\n",
      "32/32 [==============================] - 0s 1ms/step - loss: 25.0272\n",
      "Epoch 202/250\n",
      "32/32 [==============================] - 0s 991us/step - loss: 24.8701\n",
      "Epoch 203/250\n",
      "32/32 [==============================] - 0s 913us/step - loss: 25.1089\n",
      "Epoch 204/250\n",
      "32/32 [==============================] - 0s 968us/step - loss: 24.8315\n",
      "Epoch 205/250\n",
      "32/32 [==============================] - 0s 998us/step - loss: 25.2624\n",
      "Epoch 206/250\n",
      "32/32 [==============================] - 0s 939us/step - loss: 24.8390\n",
      "Epoch 207/250\n",
      "32/32 [==============================] - 0s 955us/step - loss: 25.1283\n",
      "Epoch 208/250\n",
      "32/32 [==============================] - 0s 958us/step - loss: 25.0243\n",
      "Epoch 209/250\n",
      "32/32 [==============================] - 0s 1ms/step - loss: 25.0770\n",
      "Epoch 210/250\n",
      "32/32 [==============================] - 0s 968us/step - loss: 25.0118\n",
      "Epoch 211/250\n",
      "32/32 [==============================] - 0s 942us/step - loss: 25.1102\n",
      "Epoch 212/250\n",
      "32/32 [==============================] - 0s 1ms/step - loss: 24.4224\n",
      "Epoch 213/250\n",
      "32/32 [==============================] - 0s 1ms/step - loss: 24.7234\n",
      "Epoch 214/250\n",
      "32/32 [==============================] - 0s 1ms/step - loss: 25.0797\n",
      "Epoch 215/250\n",
      "32/32 [==============================] - 0s 1ms/step - loss: 24.9285\n",
      "Epoch 216/250\n",
      "32/32 [==============================] - 0s 1ms/step - loss: 25.1035\n",
      "Epoch 217/250\n",
      "32/32 [==============================] - 0s 1ms/step - loss: 25.1706\n",
      "Epoch 218/250\n",
      "32/32 [==============================] - 0s 1ms/step - loss: 25.0659\n",
      "Epoch 219/250\n",
      "32/32 [==============================] - 0s 988us/step - loss: 25.0364\n",
      "Epoch 220/250\n",
      "32/32 [==============================] - 0s 971us/step - loss: 25.2114\n",
      "Epoch 221/250\n",
      "32/32 [==============================] - 0s 898us/step - loss: 24.6622\n",
      "Epoch 222/250\n",
      "32/32 [==============================] - 0s 987us/step - loss: 24.9349\n",
      "Epoch 223/250\n",
      "32/32 [==============================] - 0s 1ms/step - loss: 25.4208\n",
      "Epoch 224/250\n",
      "32/32 [==============================] - 0s 1ms/step - loss: 25.0308\n",
      "Epoch 225/250\n",
      "32/32 [==============================] - 0s 889us/step - loss: 24.7274\n",
      "Epoch 226/250\n",
      "32/32 [==============================] - 0s 888us/step - loss: 25.0961\n",
      "Epoch 227/250\n",
      "32/32 [==============================] - 0s 1ms/step - loss: 24.7974\n",
      "Epoch 228/250\n",
      "32/32 [==============================] - 0s 1ms/step - loss: 25.2280\n",
      "Epoch 229/250\n",
      "32/32 [==============================] - 0s 1ms/step - loss: 24.8347\n",
      "Epoch 230/250\n",
      "32/32 [==============================] - 0s 1ms/step - loss: 24.6720\n",
      "Epoch 231/250\n",
      "32/32 [==============================] - 0s 1ms/step - loss: 25.3818\n",
      "Epoch 232/250\n",
      "32/32 [==============================] - 0s 1ms/step - loss: 24.5660\n",
      "Epoch 233/250\n",
      "32/32 [==============================] - 0s 1ms/step - loss: 24.6894\n",
      "Epoch 234/250\n",
      "32/32 [==============================] - 0s 1ms/step - loss: 24.9409\n",
      "Epoch 235/250\n",
      "32/32 [==============================] - 0s 885us/step - loss: 24.6522\n",
      "Epoch 236/250\n",
      "32/32 [==============================] - 0s 824us/step - loss: 24.8374\n",
      "Epoch 237/250\n",
      "32/32 [==============================] - 0s 904us/step - loss: 25.1941\n",
      "Epoch 238/250\n",
      "32/32 [==============================] - 0s 881us/step - loss: 24.8664\n",
      "Epoch 239/250\n",
      "32/32 [==============================] - 0s 894us/step - loss: 24.8587\n",
      "Epoch 240/250\n",
      "32/32 [==============================] - 0s 966us/step - loss: 24.7695\n",
      "Epoch 241/250\n",
      "32/32 [==============================] - 0s 871us/step - loss: 25.0487\n",
      "Epoch 242/250\n",
      "32/32 [==============================] - 0s 1ms/step - loss: 24.7590\n",
      "Epoch 243/250\n",
      "32/32 [==============================] - 0s 969us/step - loss: 24.9309\n",
      "Epoch 244/250\n",
      "32/32 [==============================] - 0s 1ms/step - loss: 24.8684\n",
      "Epoch 245/250\n",
      "32/32 [==============================] - 0s 959us/step - loss: 25.1265\n",
      "Epoch 246/250\n",
      "32/32 [==============================] - 0s 861us/step - loss: 24.8191\n",
      "Epoch 247/250\n",
      "32/32 [==============================] - 0s 832us/step - loss: 24.6910\n",
      "Epoch 248/250\n",
      "32/32 [==============================] - 0s 888us/step - loss: 24.9535\n",
      "Epoch 249/250\n",
      "32/32 [==============================] - 0s 880us/step - loss: 25.0975\n",
      "Epoch 250/250\n",
      "32/32 [==============================] - 0s 890us/step - loss: 24.8023\n"
     ]
    },
    {
     "data": {
      "text/plain": [
       "<keras.callbacks.History at 0x22bf51bb460>"
      ]
     },
     "execution_count": 98,
     "metadata": {},
     "output_type": "execute_result"
    }
   ],
   "source": [
    "final_model = Sequential()\n",
    "\n",
    "final_model.add(Dense(units = 4, activation = \"relu\"))     # input_dim = 2 or input_dim = X_train.shape[1]\n",
    "final_model.add(Dense(units = 4, activation = \"relu\"))\n",
    "final_model.add(Dense(units = 4, activation = \"relu\"))\n",
    "final_model.add(Dense(1))\n",
    "\n",
    "final_model.compile(optimizer = \"rmsprop\", loss = \"mse\")\n",
    "\n",
    "final_model.fit(x = X_scaled, y = y, batch_size = 32, epochs = 250)"
   ]
  },
  {
   "cell_type": "code",
   "execution_count": 99,
   "metadata": {},
   "outputs": [
    {
     "name": "stdout",
     "output_type": "stream",
     "text": [
      "Model: \"sequential_5\"\n",
      "_________________________________________________________________\n",
      " Layer (type)                Output Shape              Param #   \n",
      "=================================================================\n",
      " dense_20 (Dense)            (None, 4)                 12        \n",
      "                                                                 \n",
      " dense_21 (Dense)            (None, 4)                 20        \n",
      "                                                                 \n",
      " dense_22 (Dense)            (None, 4)                 20        \n",
      "                                                                 \n",
      " dense_23 (Dense)            (None, 1)                 5         \n",
      "                                                                 \n",
      "=================================================================\n",
      "Total params: 57\n",
      "Trainable params: 57\n",
      "Non-trainable params: 0\n",
      "_________________________________________________________________\n"
     ]
    }
   ],
   "source": [
    "final_model.summary()"
   ]
  },
  {
   "cell_type": "markdown",
   "metadata": {},
   "source": [
    "### Saving a Model"
   ]
  },
  {
   "cell_type": "markdown",
   "metadata": {},
   "source": [
    "You can save a TensorFlow/Keras model using [`model.save()`](https://www.tensorflow.org/tutorials/keras/save_and_load#save_the_entire_model).\n",
    "\n",
    "Keras saves models by inspecting their architectures. This technique saves everything:\n",
    "\n",
    "- The weight values\n",
    "- The model's architecture\n",
    "- The model's training configuration (what you pass to the .compile() method)\n",
    "- The optimizer and its state, if any (this enables you to restart training where you left off)\n",
    "\n",
    "There are two ways to save a model in TensorFlow:\n",
    "1. The [SavedModel format](https://www.tensorflow.org/tutorials/keras/save_and_load#savedmodel_format) (default).\n",
    "2. The [HDF5 format](https://www.tensorflow.org/tutorials/keras/save_and_load#hdf5_format).\n",
    "\n"
   ]
  },
  {
   "cell_type": "code",
   "execution_count": 100,
   "metadata": {},
   "outputs": [],
   "source": [
    "final_model.save('model_fake_reg.h5')  # creates a HDF5 file 'my_model.h5'"
   ]
  },
  {
   "cell_type": "code",
   "execution_count": 101,
   "metadata": {},
   "outputs": [],
   "source": [
    "#final_model.save(\"model_fake_reg\") "
   ]
  },
  {
   "cell_type": "markdown",
   "metadata": {},
   "source": [
    "### Loading Model"
   ]
  },
  {
   "cell_type": "code",
   "execution_count": 102,
   "metadata": {},
   "outputs": [],
   "source": [
    "from tensorflow.keras.models import load_model"
   ]
  },
  {
   "cell_type": "code",
   "execution_count": 103,
   "metadata": {},
   "outputs": [],
   "source": [
    "model_fake_reg = load_model('model_fake_reg.h5')"
   ]
  },
  {
   "cell_type": "code",
   "execution_count": 104,
   "metadata": {},
   "outputs": [],
   "source": [
    "scaler_fake_reg = pickle.load(open(\"scaler_fake_reg\", \"rb\"))"
   ]
  },
  {
   "cell_type": "markdown",
   "metadata": {},
   "source": [
    "## Prediction-1"
   ]
  },
  {
   "cell_type": "code",
   "execution_count": 105,
   "metadata": {},
   "outputs": [],
   "source": [
    "sample = [[998, 1000]]"
   ]
  },
  {
   "cell_type": "code",
   "execution_count": 106,
   "metadata": {},
   "outputs": [],
   "source": [
    "sample_scaled = scaler_fake_reg.transform(sample)"
   ]
  },
  {
   "cell_type": "code",
   "execution_count": 107,
   "metadata": {},
   "outputs": [
    {
     "name": "stdout",
     "output_type": "stream",
     "text": [
      "1/1 [==============================] - 0s 51ms/step\n"
     ]
    },
    {
     "data": {
      "text/plain": [
       "array([[420.0017]], dtype=float32)"
      ]
     },
     "execution_count": 107,
     "metadata": {},
     "output_type": "execute_result"
    }
   ],
   "source": [
    "model_fake_reg.predict(sample_scaled)"
   ]
  },
  {
   "cell_type": "markdown",
   "metadata": {},
   "source": [
    "## Prediction-2"
   ]
  },
  {
   "cell_type": "code",
   "execution_count": 76,
   "metadata": {},
   "outputs": [],
   "source": [
    "my_dict = {\"Feature1\": [997, 998, 999, 1000, 1001],\n",
    "           \"Feature2\": [1000, 999, 998, 997, 996]}"
   ]
  },
  {
   "cell_type": "code",
   "execution_count": 77,
   "metadata": {},
   "outputs": [
    {
     "data": {
      "text/html": [
       "<div>\n",
       "<style scoped>\n",
       "    .dataframe tbody tr th:only-of-type {\n",
       "        vertical-align: middle;\n",
       "    }\n",
       "\n",
       "    .dataframe tbody tr th {\n",
       "        vertical-align: top;\n",
       "    }\n",
       "\n",
       "    .dataframe thead th {\n",
       "        text-align: right;\n",
       "    }\n",
       "</style>\n",
       "<table border=\"1\" class=\"dataframe\">\n",
       "  <thead>\n",
       "    <tr style=\"text-align: right;\">\n",
       "      <th></th>\n",
       "      <th>Feature1</th>\n",
       "      <th>Feature2</th>\n",
       "    </tr>\n",
       "  </thead>\n",
       "  <tbody>\n",
       "    <tr>\n",
       "      <th>0</th>\n",
       "      <td>997</td>\n",
       "      <td>1000</td>\n",
       "    </tr>\n",
       "    <tr>\n",
       "      <th>1</th>\n",
       "      <td>998</td>\n",
       "      <td>999</td>\n",
       "    </tr>\n",
       "    <tr>\n",
       "      <th>2</th>\n",
       "      <td>999</td>\n",
       "      <td>998</td>\n",
       "    </tr>\n",
       "    <tr>\n",
       "      <th>3</th>\n",
       "      <td>1000</td>\n",
       "      <td>997</td>\n",
       "    </tr>\n",
       "    <tr>\n",
       "      <th>4</th>\n",
       "      <td>1001</td>\n",
       "      <td>996</td>\n",
       "    </tr>\n",
       "  </tbody>\n",
       "</table>\n",
       "</div>"
      ],
      "text/plain": [
       "   Feature1  Feature2\n",
       "0       997      1000\n",
       "1       998       999\n",
       "2       999       998\n",
       "3      1000       997\n",
       "4      1001       996"
      ]
     },
     "execution_count": 77,
     "metadata": {},
     "output_type": "execute_result"
    }
   ],
   "source": [
    "sample = pd.DataFrame(my_dict)\n",
    "sample"
   ]
  },
  {
   "cell_type": "code",
   "execution_count": 78,
   "metadata": {},
   "outputs": [
    {
     "data": {
      "text/plain": [
       "array([[-0.00948799,  0.52980619],\n",
       "       [ 0.15312457,  0.35345977],\n",
       "       [ 0.31573713,  0.17711336],\n",
       "       [ 0.47834969,  0.00076694],\n",
       "       [ 0.64096225, -0.17557948]])"
      ]
     },
     "execution_count": 78,
     "metadata": {},
     "output_type": "execute_result"
    }
   ],
   "source": [
    "sample_scaled = scaler_fake_reg.transform(sample)\n",
    "sample_scaled"
   ]
  },
  {
   "cell_type": "code",
   "execution_count": 79,
   "metadata": {},
   "outputs": [
    {
     "data": {
      "text/plain": [
       "array([[380.26678],\n",
       "       [331.80624],\n",
       "       [283.34576],\n",
       "       [234.88527],\n",
       "       [186.35524]], dtype=float32)"
      ]
     },
     "execution_count": 79,
     "metadata": {},
     "output_type": "execute_result"
    }
   ],
   "source": [
    "model_fake_reg.predict(sample_scaled)"
   ]
  },
  {
   "cell_type": "markdown",
   "metadata": {},
   "source": [
    "___\n",
    "\n",
    "<p style=\"text-align: center;\"><img src=\"https://docs.google.com/uc?id=1lY0Uj5R04yMY3-ZppPWxqCr5pvBLYPnV\" class=\"img-fluid\" alt=\"CLRSWY\"></p>\n",
    "\n",
    "___"
   ]
  }
 ],
 "metadata": {
  "interpreter": {
   "hash": "aee8b7b246df8f9039afb4144a1f6fd8d2ca17a180786b69acc140d282b71a49"
  },
  "kernelspec": {
   "display_name": "Python 3 (ipykernel)",
   "language": "python",
   "name": "python3"
  },
  "language_info": {
   "codemirror_mode": {
    "name": "ipython",
    "version": 3
   },
   "file_extension": ".py",
   "mimetype": "text/x-python",
   "name": "python",
   "nbconvert_exporter": "python",
   "pygments_lexer": "ipython3",
   "version": "3.9.13"
  },
  "toc": {
   "base_numbering": 1,
   "nav_menu": {},
   "number_sections": false,
   "sideBar": true,
   "skip_h1_title": false,
   "title_cell": "Table of Contents",
   "title_sidebar": "Contents",
   "toc_cell": false,
   "toc_position": {
    "height": "calc(100% - 180px)",
    "left": "10px",
    "top": "150px",
    "width": "300.099px"
   },
   "toc_section_display": true,
   "toc_window_display": true
  },
  "varInspector": {
   "cols": {
    "lenName": 16,
    "lenType": 16,
    "lenVar": 40
   },
   "kernels_config": {
    "python": {
     "delete_cmd_postfix": "",
     "delete_cmd_prefix": "del ",
     "library": "var_list.py",
     "varRefreshCmd": "print(var_dic_list())"
    },
    "r": {
     "delete_cmd_postfix": ") ",
     "delete_cmd_prefix": "rm(",
     "library": "var_list.r",
     "varRefreshCmd": "cat(var_dic_list()) "
    }
   },
   "types_to_exclude": [
    "module",
    "function",
    "builtin_function_or_method",
    "instance",
    "_Feature"
   ],
   "window_display": false
  }
 },
 "nbformat": 4,
 "nbformat_minor": 4
}
